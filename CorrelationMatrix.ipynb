{
 "cells": [
  {
   "metadata": {},
   "cell_type": "raw",
   "source": "# Find variables strongly correlated with MAE",
   "id": "f4407de090d4c13c"
  },
  {
   "metadata": {},
   "cell_type": "markdown",
   "source": [
    "This notebook will reproduce the correlation matrices\n",
    "* Figure 1: Matrix of Spearman’s correlation coefficients for MAE and system features from SR-DF [...]\n",
    "* Figure S1: Matrix of Kendall’s coefficients for MAE and system features from SR-DF [...]\n",
    "* Figure S2: The same as in Fig. S1 but for the Pearson’s r correlation coefficient."
   ],
   "id": "c7092bb3343b210a"
  },
  {
   "metadata": {},
   "cell_type": "code",
   "outputs": [],
   "execution_count": null,
   "source": [
    "import numpy as np\n",
    "import pandas as pd\n",
    "import random\n",
    "import scipy.stats as ss\n",
    "import seaborn as sns\n",
    "from src.labels_paper import labels\n",
    "import matplotlib.pyplot as plt"
   ],
   "id": "a7c3c6b13b5570f5"
  },
  {
   "metadata": {},
   "cell_type": "code",
   "outputs": [],
   "execution_count": null,
   "source": [
    "def plot_correlation(df, target, correlation_method='kendall', n_variables = 20, translate_columns=True):\n",
    "    max_proportion_of_nans = 0.2\n",
    "    columns_to_remove = []\n",
    "    for col in df.columns:\n",
    "        prop = np.mean(df[col].isna())\n",
    "        if prop > max_proportion_of_nans:\n",
    "            #print(f'Remove column {col} NaN% {prop}')\n",
    "            columns_to_remove.append(col)\n",
    "    df_ = df.drop(columns_to_remove, axis=1)\n",
    "\n",
    "    # Full correlaiton matrix: not required to compute but simple\n",
    "\n",
    "    df_full = pd.concat([target, df_], axis=1)\n",
    "    corr_full = df_full.corr(method=correlation_method)\n",
    "    mea_corr = np.abs(corr_full['MAE (meV)'])\n",
    "    mea_corr.sort_values(ascending=False, inplace=True)\n",
    "    \n",
    "    variables = mea_corr.head(n_variables).index\n",
    "    df_ = df_full[variables]\n",
    "    if translate_columns:\n",
    "        df_.columns = [labels(c) for c in df_.columns]\n",
    "    corr = df_.corr(method=correlation_method)\n",
    "    \n",
    "    #https://stackoverflow.com/questions/73581384/plotting-a-fancy-diagonal-correlation-matrix-with-coefficients-in-upper-triangle\n",
    "    mask = np.tril(np.ones_like(corr, dtype=bool)) | corr.abs().le(0.1)\n",
    "    melt = corr.mask(mask).melt(ignore_index=False).reset_index()\n",
    "    melt[\"size\"] = melt[\"value\"].abs()\n",
    "\n",
    "    #fig, ax = plt.subplots(figsize=(12, 9.5))\n",
    "    fig, ax = plt.subplots(figsize=(11, 8.5))\n",
    "\n",
    "    # normalize colorbar\n",
    "    cmap = plt.cm.RdBu\n",
    "    norm = plt.Normalize(-1, 1)\n",
    "    sm = plt.cm.ScalarMappable(norm=norm, cmap=cmap)\n",
    "    cbar = plt.colorbar(sm, ax=ax)\n",
    "    cbar.ax.tick_params(labelsize=\"x-small\")\n",
    "\n",
    "    # plot lower triangle (scatter plot with normalized hue and square markers)\n",
    "    sns.scatterplot(ax=ax, data=melt, x=\"index\", y=\"variable\", size=\"size\",\n",
    "                    hue=\"value\", hue_norm=norm, palette=cmap,\n",
    "                    style=0, markers=[\"s\"], legend=False)\n",
    "\n",
    "    # format grid\n",
    "    xmin, xmax = (-0.5, corr.shape[0] - 0.5)\n",
    "    ymin, ymax = (-0.5, corr.shape[1] - 0.5)\n",
    "    ax.vlines(np.arange(xmin, xmax + 1), ymin, ymax, lw=1, color=\"silver\")\n",
    "    ax.hlines(np.arange(ymin, ymax + 1), xmin, xmax, lw=1, color=\"silver\")\n",
    "    ax.set(aspect=1, xlim=(xmin, xmax), ylim=(ymax, ymin), xlabel=\"\", ylabel=\"\")\n",
    "    ax.tick_params(labelbottom=False, labeltop=True)\n",
    "    plt.xticks(rotation=90)\n",
    "\n",
    "    # annotate upper triangle\n",
    "    for y in range(corr.shape[0]):\n",
    "        for x in range(corr.shape[1]):\n",
    "            value = corr.mask(mask).to_numpy()[y, x]\n",
    "            if pd.notna(value):\n",
    "                plt.text(x, y, f\"{value:.2f}\", size=\"x-small\",\n",
    "                         #color=sm.to_rgba(value), weight=\"bold\",\n",
    "                          ha=\"center\", va=\"center\")\n",
    "    outputfilename = f'corr_{correlation_method}.pdf'\n",
    "    plt.savefig(outputfilename, bbox_inches='tight')"
   ],
   "id": "e627aa85139226e3"
  },
  {
   "metadata": {},
   "cell_type": "code",
   "outputs": [],
   "execution_count": null,
   "source": [
    "df = pd.read_csv('data/implicit_dataset.csv')\n",
    "target = pd.read_csv('data/implicit_target_mae.csv')\n",
    "df = df._get_numeric_data()"
   ],
   "id": "c0e154251587e942"
  },
  {
   "metadata": {},
   "cell_type": "code",
   "outputs": [],
   "execution_count": null,
   "source": [
    "# reproduce Figure 1\n",
    "plot_correlation(df, target, correlation_method='spearman', n_variables = 21)"
   ],
   "id": "9f0bcd8d16d79e97"
  },
  {
   "metadata": {},
   "cell_type": "code",
   "outputs": [],
   "execution_count": null,
   "source": [
    "# reproduce Figure S1\n",
    "plot_correlation(df, target, correlation_method='kendall', n_variables = 21)"
   ],
   "id": "a1c3866957d3a8f8"
  },
  {
   "metadata": {},
   "cell_type": "code",
   "outputs": [],
   "execution_count": null,
   "source": [
    "# reproduce Figure S2\n",
    "plot_correlation(df, target, correlation_method='pearson', n_variables = 21)"
   ],
   "id": "259740cfd5bc518b"
  }
 ],
 "metadata": {
  "kernelspec": {
   "display_name": "Python 3 (ipykernel)",
   "language": "python",
   "name": "python3"
  },
  "language_info": {
   "codemirror_mode": {
    "name": "ipython",
    "version": 3
   },
   "file_extension": ".py",
   "mimetype": "text/x-python",
   "name": "python",
   "nbconvert_exporter": "python",
   "pygments_lexer": "ipython3",
   "version": "3.10.12"
  }
 },
 "nbformat": 4,
 "nbformat_minor": 5
}
