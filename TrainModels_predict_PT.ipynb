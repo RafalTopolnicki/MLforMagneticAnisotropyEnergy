{
 "cells": [
  {
   "metadata": {},
   "cell_type": "raw",
   "source": [
    "import pandas as pd\n",
    "from catboost import CatBoostRegressor\n",
    "from catboost import EShapCalcType, EFeaturesSelectionAlgorithm\n",
    "\n",
    "import matplotlib.pyplot as plt\n",
    "import numpy as np\n",
    "\n",
    "from sklearn.model_selection import cross_validate\n",
    "from sklearn.metrics import mean_squared_error, get_scorer_names, mean_absolute_percentage_error, mean_absolute_error, r2_score\n",
    "from sklearn.linear_model import LinearRegression, Lasso\n",
    "\n",
    "from src.utils import prediction_on_folds, train_nocv\n",
    "from src.outputs import save_fold_predictions, save_nofolds_predictions\n",
    "from src.manipulations import categorical_features\n",
    "from src.labels_paper import labels\n",
    "\n",
    "import shap\n",
    "shap.initjs()"
   ],
   "id": "4758a6079f481171"
  },
  {
   "metadata": {},
   "cell_type": "code",
   "outputs": [],
   "execution_count": null,
   "source": [
    "def compute_metrics_by_method(csvpath, substrate='implicit'):\n",
    "    results = pd.read_csv(csvpath)\n",
    "    results = results[results['substrate'] == substrate]\n",
    "    labels = results['label'].unique()\n",
    "    for label in labels:\n",
    "        results_label = results[results['label'] == label]\n",
    "        r2 = r2_score(results_label['target'], results_label['pred'])\n",
    "        mserr = mean_squared_error(results_label['target'], results_label['pred'])\n",
    "        rmserr = np.sqrt(mserr)\n",
    "        maerr = mean_absolute_error(results_label['target'], results_label['pred'])\n",
    "        txt = f\"{substrate} {label}\\tMAErr={maerr:.4f}\\tRMSErr={rmserr:.4f}\\t\" + r\"$R^2$\" + f\"\\t={r2:.2f}\"\n",
    "        print(txt)"
   ],
   "id": "c7686dcc5063862d"
  },
  {
   "metadata": {},
   "cell_type": "markdown",
   "source": "# Read data",
   "id": "de7a495ae1d4a3f6"
  },
  {
   "metadata": {},
   "cell_type": "markdown",
   "source": "### Read data for implicit substrates",
   "id": "af9d5a0b31b45822"
  },
  {
   "metadata": {},
   "cell_type": "code",
   "outputs": [],
   "execution_count": null,
   "source": [
    "df = pd.read_csv('data/implicit_dataset.csv')\n",
    "target = pd.read_csv('data/implicit_PT.csv')"
   ],
   "id": "a3f36327ec15125f"
  },
  {
   "metadata": {},
   "cell_type": "markdown",
   "source": "### Read data for explicit substrates",
   "id": "5efee4eb328e2e2"
  },
  {
   "metadata": {},
   "cell_type": "code",
   "outputs": [],
   "execution_count": null,
   "source": [
    "df_es = pd.read_csv('data/explicit_dataset.csv')\n",
    "target_es = pd.read_csv('data/explicit_PT.csv')"
   ],
   "id": "70101a61dfef13e4"
  },
  {
   "metadata": {},
   "cell_type": "code",
   "outputs": [],
   "execution_count": null,
   "source": [
    "# prepare data for LinearRegression and Lasso\n",
    "# remove possible NaNs and perform one-hot encodings\n",
    "df_nonans = df.dropna(axis=1)\n",
    "df_es_nonans = df_es.dropna(axis=1)\n",
    "no_nans_common_columns = list(set(df_nonans.columns).intersection(df_es_nonans.columns))\n",
    "df_nonans = df_nonans[no_nans_common_columns]\n",
    "df_es_nonans = df_es_nonans[no_nans_common_columns]\n",
    "\n",
    "cat_features = categorical_features(df)\n",
    "cat_features_nonans = categorical_features(df_nonans)\n",
    "df_nonans_onehot = pd.get_dummies(df_nonans, columns=cat_features_nonans)\n",
    "df_es_nonans_onehot = pd.get_dummies(df_es_nonans, columns=cat_features_nonans)"
   ],
   "id": "58b69f01c584656b"
  },
  {
   "metadata": {},
   "cell_type": "markdown",
   "source": "# Training: Cross Validation using all features",
   "id": "5dcd9331454f5a3e"
  },
  {
   "metadata": {},
   "cell_type": "code",
   "outputs": [],
   "execution_count": null,
   "source": [
    "scoring = {\n",
    "    'mean_squared_error': 'neg_mean_squared_error',\n",
    "    'mean_absolute_error': 'neg_mean_absolute_error',\n",
    "    'r2': 'r2',\n",
    "}\n",
    "\n",
    "cb_hyperparams = {\n",
    "    'max_depth': 5, \n",
    "    'n_estimators': 2000,\n",
    "    'eta':0.05\n",
    "}\n",
    "\n",
    "cb = CatBoostRegressor(verbose=False, cat_features=cat_features, \n",
    "                       **cb_hyperparams)\n",
    "cv_cb = cross_validate(cb, df, target, cv=5, scoring=scoring, \n",
    "                           return_train_score=True, \n",
    "                           return_estimator=True,\n",
    "                           return_indices=True)\n",
    "\n",
    "lasso = Lasso(alpha=0.2)\n",
    "cv_lasso = cross_validate(lasso, df_nonans_onehot, target, cv=5, scoring=scoring,                            \n",
    "                              return_train_score=True, \n",
    "                              return_estimator=True,\n",
    "                              return_indices=True)\n",
    "lr = LinearRegression(fit_intercept=True)\n",
    "cv_lr = cross_validate(lr, df_nonans_onehot, target, cv=5, scoring=scoring,                            \n",
    "                              return_train_score=True, \n",
    "                              return_estimator=True,\n",
    "                              return_indices=True)"
   ],
   "id": "5a22d21f875fcf3c"
  },
  {
   "metadata": {},
   "cell_type": "code",
   "outputs": [],
   "execution_count": null,
   "source": [
    "# Train on all data without CV for better prediction for Explicit Substrates\n",
    "nocv_cb = train_nocv(cb, df, target)\n",
    "nocv_lasso = train_nocv(lasso, df_nonans_onehot, target)\n",
    "nocv_lr = train_nocv(lr, df_nonans_onehot, target)"
   ],
   "id": "f0225082e6002ddf"
  },
  {
   "metadata": {},
   "cell_type": "code",
   "outputs": [],
   "execution_count": null,
   "source": [
    "# Make predictions on whole dataset\n",
    "csv_path_all_features = save_fold_predictions(cv_objs=[cv_lr, cv_lasso, cv_cb],\n",
    "                                            labels=['MLR', 'LASSO', 'ML'],\n",
    "                                            dfs=[df_nonans_onehot, df_nonans_onehot, df],\n",
    "                                            targets=[target, target, target],\n",
    "                                            filenamebase=f'fit_all_features_PTpredict',\n",
    "                                            substrate='implicit')"
   ],
   "id": "b53340fd3219c59e"
  },
  {
   "metadata": {},
   "cell_type": "code",
   "outputs": [],
   "execution_count": null,
   "source": [
    "# Metrics for implicit substrates. PT used as target.\n",
    "compute_metrics_by_method(csv_path_all_features, substrate='implicit')"
   ],
   "id": "b79777f01d9ad8a2"
  },
  {
   "metadata": {},
   "cell_type": "code",
   "outputs": [],
   "execution_count": null,
   "source": [
    "# Metrics for explicit substrates\n",
    "# This metrics are given in Table XXX in the manuscript\n",
    "csv_path_all_features_es = save_nofolds_predictions(estimators=[nocv_lr, nocv_lasso, nocv_cb],\n",
    "                                        labels=['MLR', 'LASSO', 'ML'],\n",
    "                                        dfs=[df_es_nonans_onehot, df_es_nonans_onehot, df_es],\n",
    "                                        targets=[target_es, target_es, target_es],\n",
    "                                        filenamebase=f'fit_all_features_es_PTpredict',\n",
    "                                        substrate='explicit')"
   ],
   "id": "249f759734d81c7e"
  },
  {
   "metadata": {},
   "cell_type": "code",
   "outputs": [],
   "execution_count": null,
   "source": "compute_metrics_by_method(csv_path_all_features_es, substrate='explicit')",
   "id": "e26f284be575d45d"
  },
  {
   "metadata": {},
   "cell_type": "markdown",
   "source": "# Feature Selection",
   "id": "96e59335bdfbe1af"
  },
  {
   "metadata": {},
   "cell_type": "code",
   "outputs": [],
   "execution_count": null,
   "source": [
    "# Feature selection with CV\n",
    "num_features_to_selects = [2, 3, 5, 6, 7, 8, 9, 10, 12, 15, 17, 20, 25, 30, 35, 40, 45, 50, 55, 60, 65, 70, 80, 90, 100]\n",
    "\n",
    "mse_feature = []\n",
    "mae_feature = []\n",
    "r2_feature = []\n",
    "features_selection = {}\n",
    "\n",
    "for num_features_to_select in num_features_to_selects:\n",
    "    mod = CatBoostRegressor(cat_features=cat_features)\n",
    "    summary = mod.select_features(df, target,\n",
    "                          features_for_select=list(range(df.shape[1])),\n",
    "                          num_features_to_select=num_features_to_select,\n",
    "                          steps=20,\n",
    "                          algorithm=EFeaturesSelectionAlgorithm.RecursiveByShapValues,\n",
    "                          shap_calc_type=EShapCalcType.Regular,\n",
    "                          train_final_model=True,\n",
    "                          plot=False, logging_level='Silent')\n",
    "\n",
    "    features_selection[num_features_to_select] = summary['selected_features_names']\n",
    "    df_selected = df[summary['selected_features_names']]\n",
    "    cb_mod = CatBoostRegressor(**cb_hyperparams, cat_features=cat_features, verbose=False)\n",
    "    cv_cb_fetures = cross_validate(cb_mod, df_selected, target, cv=5, scoring=scoring, \n",
    "                           return_train_score=True, \n",
    "                           return_estimator=True,\n",
    "                           return_indices=True)\n",
    "    y_pred_folds, y_test_folds = prediction_on_folds(cv_cb_fetures, df_selected, target)\n",
    "    mae = mean_absolute_error(y_test_folds, y_pred_folds)\n",
    "    mse = mean_squared_error(y_test_folds, y_pred_folds)\n",
    "    r2 = r2_score(y_test_folds, y_pred_folds)\n",
    "    mse_feature.append(mse)\n",
    "    mae_feature.append(mae)\n",
    "    r2_feature.append(r2)\n",
    "    print('****')\n",
    "    print(f'REQUIRED NUMBER OF FEATURES {num_features_to_select}')\n",
    "    print(summary['selected_features_names'])\n",
    "    print(f'MAE={mae} MSE={mse} RMSE={np.sqrt(mse)} R2={r2}')\n",
    "    print('****')"
   ],
   "id": "e5a95fa90570028b"
  },
  {
   "metadata": {},
   "cell_type": "markdown",
   "source": "# Build models for list selected 25 features",
   "id": "602674cf91f9dc0b"
  },
  {
   "metadata": {},
   "cell_type": "code",
   "outputs": [],
   "execution_count": null,
   "source": [
    "# copy-paste list from output above\n",
    "N_FEATURES = 25\n",
    "FEATURES = features_selection[N_FEATURES]\n",
    "#FEATURES = ['BG_dir_up', 'dimer_len', 'h_substrate', 'sr_A2_dz2-r2UP', 'sr_A1_dz2-r2DOWN', 'sr_A2_dz2-r2DOWN', 'sr_A1_dxzUP', 'sr_A2_dxzUP', 'sr_A1_dosmodeldxzUP_integral_below_1.0', 'sr_A1_dosmodeldxzUP_integral_above_1.0', 'sr_A1_dosmodeldz2-r2DOWN_integral_below_1.0', 'sr_A2_dosmodeldz2-r2DOWN_integral_below_1.0', 'bader_A1', 'bader_A2', 'sr_A1_dosmodeldx2-y2UP_E_below', 'sr_A1_dosmodeldz2-r2UP_peak_above', 'sr_A1_dosmodeldxzUP_peak_above', 'sr_A1_dosmodeldxyDOWN_E_below', 'sr_A1_dosmodeldx2-y2DOWN_E_below', 'sr_A1_dosmodeldx2-y2DOWN_peak_below', 'sr_A1_dosmodeldyzDOWN_E_above', 'sr_A1_dosmodeldz2-r2DOWN_E_above', 'sr_A1_dosmodeldxzDOWN_E_above', 'sr_A2_dosmodeldz2-r2UP_peak_below', 'sr_A2_dosmodeldx2-y2UP_E_below']\n",
    "print(f'FEATURES: {FEATURES}')\n",
    "df_selected = df[FEATURES].copy()\n",
    "\n",
    "df_es_selected = df_es[FEATURES]\n",
    "# prepare data for LinearRegression\n",
    "# remove NaNs\n",
    "# do one-hot encodings\n",
    "df_nonans_selected = df_selected.dropna(axis=1)\n",
    "df_es_nonans_selected = df_es_selected.dropna(axis=1)\n",
    "no_nans_common_columns = list(set(df_nonans_selected.columns).intersection(df_es_nonans_selected.columns))\n",
    "df_nonans_selected = df_nonans_selected[no_nans_common_columns]\n",
    "df_es_nonans_selected = df_es_nonans_selected[no_nans_common_columns]\n",
    "\n",
    "cat_features_selected = categorical_features(df_selected)\n",
    "cat_features_nonans_selected = categorical_features(df_nonans_selected)\n",
    "df_nonans_onehot_selected = pd.get_dummies(df_nonans_selected, columns=cat_features_nonans_selected)\n",
    "df_es_nonans_onehot_selected = pd.get_dummies(df_es_nonans_selected, columns=cat_features_nonans_selected)\n",
    "\n",
    "cat_features_nonans_selected = categorical_features(df_nonans_selected)\n",
    "df_nonans_selected_onehot = pd.get_dummies(df_nonans_selected, columns=cat_features_nonans_selected)"
   ],
   "id": "e15b7cfce8daeb60"
  },
  {
   "metadata": {},
   "cell_type": "code",
   "outputs": [],
   "execution_count": null,
   "source": [
    "# print selected features in LaTeX format\n",
    "[labels(f) for f in FEATURES]"
   ],
   "id": "ccf23a8b1d16c6ea"
  },
  {
   "metadata": {},
   "cell_type": "code",
   "outputs": [],
   "execution_count": null,
   "source": [
    "lasso = Lasso(alpha=0.1)\n",
    "cv_lasso_selected = cross_validate(lasso, df_nonans_selected_onehot, target, cv=5, scoring=scoring,                            \n",
    "                              return_train_score=True, \n",
    "                              return_estimator=True,\n",
    "                              return_indices=True)\n",
    "\n",
    "cv_lr_selected = cross_validate(lr,df_nonans_selected_onehot, target, cv=5, scoring=scoring,                            \n",
    "                              return_train_score=True, \n",
    "                              return_estimator=True,\n",
    "                              return_indices=True)\n",
    "\n",
    "cb = CatBoostRegressor(verbose=False, cat_features=cat_features_selected)\n",
    "cv_cb_selected = cross_validate(cb, df_selected, target, cv=5, scoring=scoring, \n",
    "                           return_train_score=True, \n",
    "                           return_estimator=True,\n",
    "                           return_indices=True)"
   ],
   "id": "b0cadaa37acdfae7"
  },
  {
   "metadata": {},
   "cell_type": "code",
   "outputs": [],
   "execution_count": null,
   "source": [
    "nocv_cb_selected = train_nocv(cb, df_selected, target)\n",
    "nocv_lasso_selected = train_nocv(lasso, df_nonans_selected_onehot, target)\n",
    "nocv_lr_selected = train_nocv(lr, df_nonans_selected_onehot, target)"
   ],
   "id": "25c55385a26ff6af"
  },
  {
   "metadata": {},
   "cell_type": "code",
   "outputs": [],
   "execution_count": null,
   "source": [
    "csv_path_selected = save_fold_predictions(cv_objs=[cv_lr_selected, cv_lasso_selected, cv_cb_selected],\n",
    "                                        labels=['MLR', 'LASSO', 'ML'],\n",
    "                                        dfs=[df_nonans_selected_onehot, df_nonans_selected_onehot, df_selected],\n",
    "                                        targets=[target, target, target],\n",
    "                                        filenamebase=f'fit_selected_features_PTpredict',\n",
    "                                        substrate='implicit')"
   ],
   "id": "7ed80b7d3daba433"
  },
  {
   "metadata": {},
   "cell_type": "markdown",
   "source": "## Trainig metrics when predicting PT: Reproduce Figure S7",
   "id": "cb503b38cb46accc"
  },
  {
   "metadata": {},
   "cell_type": "code",
   "outputs": [],
   "execution_count": null,
   "source": "compute_metrics_by_method(csv_path_selected, substrate='implicit')",
   "id": "6e0bda826fed8513"
  },
  {
   "metadata": {},
   "cell_type": "markdown",
   "source": [
    "**Conclusion**: Machine Learning model (ML), MLR and LASSO have larger performance when PT is used as target value. \n",
    "\n",
    "Metrics above corresponds to Figure S7 and is moreover discussed in the Manuscript in lines 421-430. Small differences in RMSErr between Supplementary Information and this code is due to stochastic effects (different train/val/test splits etc). "
   ],
   "id": "c8b100a856d46f22"
  },
  {
   "metadata": {},
   "cell_type": "code",
   "outputs": [],
   "execution_count": null,
   "source": [
    "csv_path_selected_es = save_nofolds_predictions(estimators=[nocv_lr_selected, nocv_lasso_selected, nocv_cb_selected],\n",
    "                                        labels=['MLR', 'LASSO', 'ML'],\n",
    "                                        dfs=[df_es_nonans_onehot_selected, df_es_nonans_onehot_selected, df_es_selected],\n",
    "                                        targets=[target_es, target_es, target_es],\n",
    "                                        filenamebase=f'fit_selected_features_es_PTpredict',\n",
    "                                        substrate='explicit')        "
   ],
   "id": "10652fe560d3c10d"
  },
  {
   "metadata": {},
   "cell_type": "code",
   "outputs": [],
   "execution_count": null,
   "source": "compute_metrics_by_method(csv_path_selected_es, substrate='explicit')",
   "id": "5e9495f0498ab429"
  },
  {
   "metadata": {},
   "cell_type": "markdown",
   "source": "Table above shows the prediction for explicit substrates. When compared with Table 1 one can see that R2 coefficient for ML is larger then when MAE is used as target.",
   "id": "6e8978b3289c28f6"
  },
  {
   "metadata": {},
   "cell_type": "code",
   "outputs": [],
   "execution_count": null,
   "source": "",
   "id": "e7547dd651723ccb"
  }
 ],
 "metadata": {
  "kernelspec": {
   "display_name": "Python 3 (ipykernel)",
   "language": "python",
   "name": "python3"
  },
  "language_info": {
   "codemirror_mode": {
    "name": "ipython",
    "version": 3
   },
   "file_extension": ".py",
   "mimetype": "text/x-python",
   "name": "python",
   "nbconvert_exporter": "python",
   "pygments_lexer": "ipython3",
   "version": "3.10.12"
  }
 },
 "nbformat": 4,
 "nbformat_minor": 5
}
