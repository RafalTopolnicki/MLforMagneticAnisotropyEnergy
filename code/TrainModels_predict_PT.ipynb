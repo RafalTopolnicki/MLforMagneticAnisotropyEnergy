{
 "cells": [
  {
   "cell_type": "code",
   "execution_count": 1,
   "id": "0dbf538e-a060-4407-990d-0e2438796798",
   "metadata": {},
   "outputs": [],
   "source": [
    "import pandas as pd\n",
    "from catboost import CatBoostRegressor\n",
    "from catboost import EShapCalcType, EFeaturesSelectionAlgorithm\n",
    "\n",
    "import numpy as np\n",
    "\n",
    "from sklearn.model_selection import cross_validate\n",
    "from sklearn.metrics import mean_squared_error, mean_absolute_error, r2_score\n",
    "from sklearn.linear_model import LinearRegression, Lasso\n",
    "\n",
    "from src.utils import prediction_on_folds, train_nocv, compute_metrics_by_method\n",
    "from src.outputs import save_fold_predictions, save_nofolds_predictions\n",
    "from src.manipulations import categorical_features\n",
    "from src.labels_paper import labels\n",
    "\n",
    "import os\n",
    "from src.consts import DATADIRECTORY"
   ]
  },
  {
   "cell_type": "markdown",
   "id": "f16fae72-13ac-402f-8e82-88f41874fdc9",
   "metadata": {},
   "source": [
    "# Read data"
   ]
  },
  {
   "cell_type": "markdown",
   "id": "3e29b56a-fc3a-4e8f-b665-9c1c86d294a9",
   "metadata": {},
   "source": [
    "### Read data for implicit substrates"
   ]
  },
  {
   "cell_type": "code",
   "execution_count": 2,
   "id": "622e87f6-22d9-4d7d-bc93-8783c186dd6b",
   "metadata": {},
   "outputs": [],
   "source": [
    "df = pd.read_csv(os.path.join(DATADIRECTORY,'implicit_dataset.csv'))\n",
    "target = pd.read_csv(os.path.join(DATADIRECTORY,'implicit_PT.csv'))"
   ]
  },
  {
   "cell_type": "markdown",
   "id": "ae03a1c5-8a24-460b-bc32-f6569770c2e3",
   "metadata": {},
   "source": [
    "### Read data for explicit substrates"
   ]
  },
  {
   "cell_type": "code",
   "execution_count": 3,
   "id": "7f5d666a-ff73-471e-82c0-31ed096ffb01",
   "metadata": {},
   "outputs": [],
   "source": [
    "df_es = pd.read_csv(os.path.join(DATADIRECTORY,'explicit_dataset.csv'))\n",
    "target_es = pd.read_csv(os.path.join(DATADIRECTORY,'explicit_PT.csv'))"
   ]
  },
  {
   "cell_type": "code",
   "execution_count": 4,
   "id": "5d50a7ae-d2f9-4dd5-85d1-901784a26077",
   "metadata": {},
   "outputs": [],
   "source": [
    "# prepare data for LinearRegression and Lasso\n",
    "# remove possible NaNs and perform one-hot encodings\n",
    "df_nonans = df.dropna(axis=1)\n",
    "df_es_nonans = df_es.dropna(axis=1)\n",
    "no_nans_common_columns = list(set(df_nonans.columns).intersection(df_es_nonans.columns))\n",
    "df_nonans = df_nonans[no_nans_common_columns]\n",
    "df_es_nonans = df_es_nonans[no_nans_common_columns]\n",
    "\n",
    "cat_features = categorical_features(df)\n",
    "cat_features_nonans = categorical_features(df_nonans)\n",
    "df_nonans_onehot = pd.get_dummies(df_nonans, columns=cat_features_nonans)\n",
    "df_es_nonans_onehot = pd.get_dummies(df_es_nonans, columns=cat_features_nonans)"
   ]
  },
  {
   "cell_type": "markdown",
   "id": "3bb676ca-46ac-42a5-9a91-c4552e3b63ad",
   "metadata": {},
   "source": [
    "# Training: Cross Validation using all features"
   ]
  },
  {
   "cell_type": "code",
   "execution_count": 5,
   "id": "52b48f06-4206-4084-be0e-e4c7fc83c4b5",
   "metadata": {},
   "outputs": [],
   "source": [
    "scoring = {\n",
    "    'mean_squared_error': 'neg_mean_squared_error',\n",
    "    'mean_absolute_error': 'neg_mean_absolute_error',\n",
    "    'r2': 'r2',\n",
    "}\n",
    "\n",
    "cb_hyperparams = {\n",
    "    'max_depth': 5, \n",
    "    'n_estimators': 2000,\n",
    "    'eta':0.05\n",
    "}\n",
    "\n",
    "cb = CatBoostRegressor(verbose=False, cat_features=cat_features, \n",
    "                       **cb_hyperparams)\n",
    "cv_cb = cross_validate(cb, df, target, cv=5, scoring=scoring, \n",
    "                           return_train_score=True, \n",
    "                           return_estimator=True,\n",
    "                           return_indices=True)\n",
    "\n",
    "lasso = Lasso(alpha=0.2)\n",
    "cv_lasso = cross_validate(lasso, df_nonans_onehot, target, cv=5, scoring=scoring,                            \n",
    "                              return_train_score=True, \n",
    "                              return_estimator=True,\n",
    "                              return_indices=True)\n",
    "lr = LinearRegression(fit_intercept=True)\n",
    "cv_lr = cross_validate(lr, df_nonans_onehot, target, cv=5, scoring=scoring,                            \n",
    "                              return_train_score=True, \n",
    "                              return_estimator=True,\n",
    "                              return_indices=True)"
   ]
  },
  {
   "cell_type": "code",
   "execution_count": 6,
   "id": "fa27f757-e4dd-4e4c-9adf-c12709c0edf5",
   "metadata": {},
   "outputs": [],
   "source": [
    "# Train on all data without CV for better prediction for Explicit Substrates\n",
    "nocv_cb = train_nocv(cb, df, target)\n",
    "nocv_lasso = train_nocv(lasso, df_nonans_onehot, target)\n",
    "nocv_lr = train_nocv(lr, df_nonans_onehot, target)"
   ]
  },
  {
   "cell_type": "code",
   "execution_count": 7,
   "id": "22392e4b-d7e9-4c71-b4c1-2d97852ab145",
   "metadata": {},
   "outputs": [],
   "source": [
    "# Make predictions on whole dataset\n",
    "csv_path_all_features = save_fold_predictions(cv_objs=[cv_lr, cv_lasso, cv_cb],\n",
    "                                            labels=['MLR', 'LASSO', 'ML'],\n",
    "                                            dfs=[df_nonans_onehot, df_nonans_onehot, df],\n",
    "                                            targets=[target, target, target],\n",
    "                                            filename=f'predictions_fit_all_features_implicit_PTastarget',\n",
    "                                            substrate='implicit')"
   ]
  },
  {
   "cell_type": "code",
   "execution_count": 8,
   "id": "5dce12ed-478e-4bfd-85ff-226d9e05b25b",
   "metadata": {},
   "outputs": [
    {
     "name": "stdout",
     "output_type": "stream",
     "text": [
      "implicit MLR\tMAErr=15.9361\tRMSErr=92.6781\t$R^2$\t=-1.69\n",
      "implicit LASSO\tMAErr=13.9672\tRMSErr=27.4073\t$R^2$\t=0.76\n",
      "implicit ML\tMAErr=7.8437\tRMSErr=12.1313\t$R^2$\t=0.95\n"
     ]
    }
   ],
   "source": [
    "# Metrics for implicit substrates. PT used as target.\n",
    "compute_metrics_by_method(csv_path_all_features, substrate='implicit', filename='Metrics_all_features_implicit_PTastarget.txt')"
   ]
  },
  {
   "cell_type": "code",
   "execution_count": 9,
   "id": "97055ac5-c533-4dce-ab0b-0d42dda2ff2c",
   "metadata": {},
   "outputs": [],
   "source": [
    "# Metrics for explicit substrates\n",
    "csv_path_all_features_es = save_nofolds_predictions(estimators=[nocv_lr, nocv_lasso, nocv_cb],\n",
    "                                        labels=['MLR', 'LASSO', 'ML'],\n",
    "                                        dfs=[df_es_nonans_onehot, df_es_nonans_onehot, df_es],\n",
    "                                        targets=[target_es, target_es, target_es],\n",
    "                                        filename=f'predictions_fit_all_features_explicit_PTastarget',\n",
    "                                        substrate='explicit')"
   ]
  },
  {
   "cell_type": "code",
   "execution_count": 10,
   "id": "b93ba663-e01d-4561-a601-2ee9020350dd",
   "metadata": {},
   "outputs": [
    {
     "name": "stdout",
     "output_type": "stream",
     "text": [
      "explicit MLR\tMAErr=3378.2675\tRMSErr=3388.9552\t$R^2$\t=-3836.90\n",
      "explicit LASSO\tMAErr=888.1310\tRMSErr=896.5401\t$R^2$\t=-267.60\n",
      "explicit ML\tMAErr=24.3965\tRMSErr=28.5992\t$R^2$\t=0.73\n"
     ]
    }
   ],
   "source": [
    "compute_metrics_by_method(csv_path_all_features_es, substrate='explicit', filename='Metrics_all_features_explicit_PTastarget.txt')"
   ]
  },
  {
   "cell_type": "markdown",
   "id": "0c25908c-a791-488b-abc7-476bf9a78ce9",
   "metadata": {},
   "source": [
    "# Feature Selection"
   ]
  },
  {
   "cell_type": "code",
   "execution_count": 11,
   "id": "1991d4d8-41d9-42bf-a580-f239b1686735",
   "metadata": {},
   "outputs": [
    {
     "name": "stdout",
     "output_type": "stream",
     "text": [
      "****\n",
      "REQUIRED NUMBER OF FEATURES 2\n",
      "['sr_A1_dz2-r2DOWN', 'bader_A2']\n",
      "MAE=14.805762343975104 MSE=501.77555572024875 RMSE=22.40034722320725 R2=0.8429216961110191\n",
      "****\n",
      "****\n",
      "REQUIRED NUMBER OF FEATURES 3\n",
      "['sr_A1_dz2-r2DOWN', 'bader_A2', 'sr_A1_dosmodeldyzDOWN_E_above']\n",
      "MAE=11.133701341126287 MSE=256.5201706764474 RMSE=16.016247084646494 R2=0.919697655926402\n",
      "****\n",
      "****\n",
      "REQUIRED NUMBER OF FEATURES 5\n",
      "['sr_A1_dz2-r2DOWN', 'sr_A1_dosmodeldz2-r2DOWN_integral_below_1.0', 'sr_A2_dosmodeldz2-r2DOWN_integral_below_1.0', 'bader_A2', 'sr_A1_dosmodeldyzDOWN_E_above']\n",
      "MAE=9.721514507325706 MSE=209.92293788096643 RMSE=14.488717606502187 R2=0.9342846843497532\n",
      "****\n",
      "****\n",
      "REQUIRED NUMBER OF FEATURES 6\n",
      "['sr_A1_dz2-r2DOWN', 'sr_A1_dosmodeldz2-r2DOWN_integral_below_1.0', 'sr_A2_dosmodeldz2-r2DOWN_integral_below_1.0', 'bader_A2', 'sr_A1_dosmodeldyzDOWN_E_above', 'sr_A2_dosmodeldxyUP_E_below']\n",
      "MAE=9.45692646329389 MSE=202.73715931176778 RMSE=14.238579961209888 R2=0.9365341560446255\n",
      "****\n",
      "****\n",
      "REQUIRED NUMBER OF FEATURES 7\n",
      "['sr_A1_dz2-r2DOWN', 'sr_A1_dosmodeldz2-r2DOWN_integral_below_1.0', 'sr_A2_dosmodeldz2-r2DOWN_integral_below_1.0', 'bader_A2', 'sr_A1_dosmodeldyzUP_peak_above', 'sr_A1_dosmodeldyzDOWN_E_above', 'sr_A2_dosmodeldxyUP_E_below']\n",
      "MAE=9.049775444821085 MSE=187.4156126242614 RMSE=13.689982199559699 R2=0.9413304888655315\n",
      "****\n",
      "****\n",
      "REQUIRED NUMBER OF FEATURES 8\n",
      "['sr_A1_dz2-r2DOWN', 'sr_A1_dosmodeldz2-r2UP_integral_below_1.0', 'sr_A1_dosmodeldz2-r2DOWN_integral_below_1.0', 'sr_A2_dosmodeldz2-r2DOWN_integral_below_1.0', 'bader_A2', 'sr_A1_dosmodeldyzUP_peak_above', 'sr_A1_dosmodeldyzDOWN_E_above', 'sr_A2_dosmodeldxyUP_E_below']\n",
      "MAE=9.11577874031385 MSE=185.04178715913412 RMSE=13.603006548522062 R2=0.9420736029402206\n",
      "****\n",
      "****\n",
      "REQUIRED NUMBER OF FEATURES 9\n",
      "['sr_A1_dz2-r2DOWN', 'sr_A1_dosmodeldz2-r2DOWN_integral_below_1.0', 'sr_A2_dosmodeldz2-r2DOWN_integral_below_1.0', 'bader_A2', 'sr_A1_dosmodeldyzUP_peak_above', 'sr_A1_dosmodeldyzDOWN_E_above', 'sr_A2_dosmodeldxyUP_E_below', 'sr_A2_dosmodeldx2-y2UP_E_below', 'sr_A2_dosmodeldxzDOWN_E_above']\n",
      "MAE=9.018386772896644 MSE=192.7575440029225 RMSE=13.88371506488528 R2=0.9396582242227333\n",
      "****\n",
      "****\n",
      "REQUIRED NUMBER OF FEATURES 10\n",
      "['sr_A1_dz2-r2DOWN', 'sr_A1_dosmodeldz2-r2UP_integral_below_1.0', 'sr_A1_dosmodeldz2-r2DOWN_integral_below_1.0', 'sr_A2_dosmodeldz2-r2DOWN_integral_below_1.0', 'bader_A2', 'sr_A1_dosmodeldyzUP_peak_above', 'sr_A1_dosmodeldyzDOWN_E_above', 'sr_A2_dosmodeldxyUP_E_below', 'sr_A2_dosmodeldx2-y2UP_E_below', 'sr_A2_dosmodeldyzDOWN_E_above']\n",
      "MAE=8.958867339984694 MSE=179.14722028933375 RMSE=13.384588909986505 R2=0.943918867332862\n",
      "****\n",
      "****\n",
      "REQUIRED NUMBER OF FEATURES 12\n",
      "['dimer_len', 'sr_A1_dz2-r2DOWN', 'sr_A1_dosmodeldyzDOWN_integral_below_1.0', 'sr_A1_dosmodeldz2-r2DOWN_integral_below_1.0', 'sr_A2_dosmodeldz2-r2DOWN_integral_below_1.0', 'bader_A2', 'sr_A1_dosmodeldyzUP_peak_above', 'sr_A1_dosmodeldyzDOWN_E_above', 'sr_A2_dosmodeldxyUP_E_below', 'sr_A2_dosmodeldx2-y2UP_E_below', 'sr_A2_dosmodeldz2-r2DOWN_peak_above', 'sr_A2_dosmodeldxzDOWN_E_above']\n",
      "MAE=8.491267368179507 MSE=170.07513903776155 RMSE=13.041285942642372 R2=0.946758836557139\n",
      "****\n",
      "****\n",
      "REQUIRED NUMBER OF FEATURES 15\n",
      "['dimer_len', 'sr_A1_dz2-r2DOWN', 'sr_A1_dosmodeldz2-r2UP_integral_below_1.0', 'sr_A1_dosmodeldz2-r2DOWN_integral_below_1.0', 'sr_A2_dosmodeldyzDOWN_integral_below_1.0', 'sr_A2_dosmodeldz2-r2DOWN_integral_below_1.0', 'sr_A2_dosmodeldxzDOWN_integral_below_1.0', 'bader_A2', 'sr_A1_dosmodeldyzUP_peak_above', 'sr_A1_dosmodeldyzDOWN_E_above', 'sr_A2_dosmodeldxyUP_E_below', 'sr_A2_dosmodeldx2-y2UP_E_below', 'sr_A2_dosmodeldyzDOWN_E_above', 'sr_A2_dosmodeldz2-r2DOWN_peak_above', 'sr_A2_dosmodeldxzDOWN_E_above']\n",
      "MAE=8.407351652801738 MSE=166.09479419223575 RMSE=12.887776929798084 R2=0.9480048634113786\n",
      "****\n",
      "****\n",
      "REQUIRED NUMBER OF FEATURES 17\n",
      "['dimer_len', 'sr_A1_dz2-r2DOWN', 'sr_A1_dosmodeldz2-r2UP_integral_below_1.0', 'sr_A1_dosmodeldyzDOWN_integral_below_1.0', 'sr_A1_dosmodeldz2-r2DOWN_integral_below_1.0', 'sr_A2_dosmodeldz2-r2DOWN_integral_below_1.0', 'sr_A2_dosmodeldxzDOWN_integral_below_1.0', 'bader_A2', 'sr_A1_dosmodeldyzUP_E_below', 'sr_A1_dosmodeldyzUP_peak_above', 'sr_A1_dosmodeldyzDOWN_E_above', 'sr_A2_dosmodeldxyUP_E_below', 'sr_A2_dosmodeldx2-y2UP_E_below', 'sr_A2_dosmodeldz2-r2DOWN_peak_below', 'sr_A2_dosmodeldyzDOWN_E_above', 'sr_A2_dosmodeldz2-r2DOWN_peak_above', 'sr_A2_dosmodeldxzDOWN_E_above']\n",
      "MAE=8.180158008074237 MSE=159.9164577036312 RMSE=12.645807910277272 R2=0.9499389604502277\n",
      "****\n",
      "****\n",
      "REQUIRED NUMBER OF FEATURES 20\n",
      "['dimer_len', 'sr_A1_dz2-r2DOWN', 'sr_A2_dz2-r2DOWN', 'sr_A1_dosmodeldz2-r2UP_integral_below_1.0', 'sr_A1_dosmodeldz2-r2DOWN_integral_below_1.0', 'sr_A1_dosmodeldxzDOWN_integral_below_1.0', 'sr_A2_dosmodeldyzDOWN_integral_below_1.0', 'sr_A2_dosmodeldz2-r2DOWN_integral_below_1.0', 'sr_A2_dosmodeldz2-r2DOWN_integral_above_1.0', 'bader_A2', 'sr_A1_dosmodeldyzUP_E_below', 'sr_A1_dosmodeldyzUP_E_above', 'sr_A1_dosmodeldyzUP_peak_above', 'sr_A1_dosmodeldz2-r2UP_E_above', 'sr_A1_dosmodeldyzDOWN_E_above', 'sr_A2_dosmodeldxyUP_E_below', 'sr_A2_dosmodeldx2-y2UP_E_below', 'sr_A2_dosmodeldyzDOWN_E_above', 'sr_A2_dosmodeldz2-r2DOWN_peak_above', 'sr_A2_dosmodeldxzDOWN_E_above']\n",
      "MAE=8.188025778554023 MSE=160.78051118053443 RMSE=12.679925519518418 R2=0.9496684728725168\n",
      "****\n",
      "****\n",
      "REQUIRED NUMBER OF FEATURES 25\n",
      "['BG_ind_down', 'dimer_len', 'sr_A1_dz2-r2DOWN', 'sr_A2_dz2-r2DOWN', 'sr_A2_dxzUP', 'sr_A1_dosmodeldyzUP_integral_below_1.0', 'sr_A1_dosmodeldz2-r2UP_integral_below_1.0', 'sr_A1_dosmodeldyzDOWN_integral_below_1.0', 'sr_A1_dosmodeldz2-r2DOWN_integral_below_1.0', 'sr_A1_dosmodeldxzDOWN_integral_below_1.0', 'sr_A2_dosmodeldyzDOWN_integral_below_1.0', 'sr_A2_dosmodeldz2-r2DOWN_integral_below_1.0', 'sr_A2_dosmodeldxzDOWN_integral_below_1.0', 'sr_A2_dosmodeldz2-r2DOWN_integral_above_1.0', 'bader_A2', 'sr_A1_dosmodeldyzUP_E_below', 'sr_A1_dosmodeldyzUP_E_above', 'sr_A1_dosmodeldyzUP_peak_above', 'sr_A1_dosmodeldz2-r2UP_E_above', 'sr_A1_dosmodeldyzDOWN_E_above', 'sr_A2_dosmodeldxyUP_E_below', 'sr_A2_dosmodeldx2-y2UP_E_below', 'sr_A2_dosmodeldyzDOWN_E_above', 'sr_A2_dosmodeldz2-r2DOWN_peak_above', 'sr_A2_dosmodeldxzDOWN_E_above']\n",
      "MAE=7.669562187747892 MSE=141.32054427234766 RMSE=11.887831773386923 R2=0.955760317245617\n",
      "****\n",
      "****\n",
      "REQUIRED NUMBER OF FEATURES 30\n",
      "['dimer_len', 'sr_A1_dyzUP', 'sr_A1_dz2-r2UP', 'sr_A1_dz2-r2DOWN', 'sr_A1_dosmodeldyzUP_integral_below_1.0', 'sr_A1_dosmodeldz2-r2UP_integral_below_1.0', 'sr_A1_dosmodeldyzDOWN_integral_below_1.0', 'sr_A1_dosmodeldz2-r2DOWN_integral_below_1.0', 'sr_A1_dosmodeldxzDOWN_integral_below_1.0', 'sr_A2_dosmodeldz2-r2UP_integral_below_1.0', 'sr_A2_dosmodeldz2-r2DOWN_integral_below_1.0', 'sr_A2_dosmodeldxzDOWN_integral_below_1.0', 'sr_A2_dosmodeldz2-r2DOWN_integral_above_1.0', 'bader_A1', 'bader_A2', 'sr_A1_dosmodeldyzUP_E_below', 'sr_A1_dosmodeldyzUP_E_above', 'sr_A1_dosmodeldyzUP_peak_above', 'sr_A1_dosmodeldxzUP_E_above', 'sr_A1_dosmodeldyzDOWN_E_above', 'sr_A1_dosmodeldxzDOWN_E_above', 'sr_A2_dosmodeldxyUP_E_below', 'sr_A2_dosmodeldx2-y2UP_E_below', 'sr_A2_dosmodeldz2-r2UP_E_above', 'sr_A2_dosmodeldz2-r2DOWN_peak_below', 'sr_A2_dosmodeldx2-y2DOWN_E_below', 'sr_A2_dosmodeldxyDOWN_peak_above', 'sr_A2_dosmodeldyzDOWN_E_above', 'sr_A2_dosmodeldz2-r2DOWN_peak_above', 'sr_A2_dosmodeldxzDOWN_E_above']\n",
      "MAE=7.731924881574678 MSE=142.21626902731 RMSE=11.925446282102403 R2=0.955479915134241\n",
      "****\n",
      "****\n",
      "REQUIRED NUMBER OF FEATURES 35\n",
      "['BG_ind_down', 'dimer_len', 'sr_A1_dxyDOWN', 'sr_A2_dyzUP', 'sr_A1_dz2-r2UP', 'sr_A1_dz2-r2DOWN', 'sr_A2_dz2-r2DOWN', 'sr_A2_dxzUP', 'sr_A2_dx2-y2DOWN', 'sr_A1_dosmodeldyzUP_integral_below_1.0', 'sr_A1_dosmodeldz2-r2UP_integral_below_1.0', 'sr_A1_dosmodeldyzDOWN_integral_below_1.0', 'sr_A1_dosmodeldz2-r2DOWN_integral_below_1.0', 'sr_A1_dosmodeldxzDOWN_integral_below_1.0', 'sr_A2_dosmodeldyzDOWN_integral_below_1.0', 'sr_A2_dosmodeldz2-r2DOWN_integral_below_1.0', 'sr_A2_dosmodeldxzDOWN_integral_below_1.0', 'sr_A2_dosmodeldz2-r2DOWN_integral_above_1.0', 'bader_A1', 'bader_A2', 'sr_A1_dosmodeldyzUP_E_below', 'sr_A1_dosmodeldxzUP_peak_below', 'sr_A1_dosmodeldyzUP_E_above', 'sr_A1_dosmodeldyzUP_peak_above', 'sr_A1_dosmodeldz2-r2UP_E_above', 'sr_A1_dosmodeldyzDOWN_E_above', 'sr_A1_dosmodeldz2-r2DOWN_peak_above', 'sr_A2_dosmodeldxyUP_E_below', 'sr_A2_dosmodeldyzUP_peak_below', 'sr_A2_dosmodeldx2-y2UP_E_below', 'sr_A2_dosmodeldxyDOWN_peak_below', 'sr_A2_dosmodeldz2-r2DOWN_peak_below', 'sr_A2_dosmodeldyzDOWN_E_above', 'sr_A2_dosmodeldz2-r2DOWN_peak_above', 'sr_A2_dosmodeldxzDOWN_E_above']\n",
      "MAE=7.467058074571533 MSE=136.11450018503655 RMSE=11.666811911787923 R2=0.9573900430580518\n",
      "****\n",
      "****\n",
      "REQUIRED NUMBER OF FEATURES 40\n",
      "['BG_ind_down', 'BG_dir_up', 'dimer_len', 'sr_A1_dxyDOWN', 'sr_A1_dz2-r2UP', 'sr_A1_dz2-r2DOWN', 'sr_A2_dz2-r2DOWN', 'sr_A1_dxzUP', 'sr_A1_dosmodeldyzUP_integral_below_1.0', 'sr_A1_dosmodeldz2-r2UP_integral_below_1.0', 'sr_A1_dosmodeldyzDOWN_integral_below_1.0', 'sr_A1_dosmodeldz2-r2DOWN_integral_below_1.0', 'sr_A1_dosmodeldxzDOWN_integral_below_1.0', 'sr_A2_dosmodeldz2-r2UP_integral_below_1.0', 'sr_A2_dosmodeldyzDOWN_integral_below_1.0', 'sr_A2_dosmodeldz2-r2DOWN_integral_below_1.0', 'sr_A2_dosmodeldxzDOWN_integral_below_1.0', 'sr_A2_dosmodeldyzDOWN_integral_above_1.0', 'sr_A2_dosmodeldz2-r2DOWN_integral_above_1.0', 'bader_A1', 'bader_A2', 'sr_A1_dosmodeldyzUP_E_below', 'sr_A1_dosmodeldyzUP_E_above', 'sr_A1_dosmodeldyzUP_peak_above', 'sr_A1_dosmodeldz2-r2UP_E_above', 'sr_A1_dosmodeldxzUP_E_above', 'sr_A1_dosmodeldyzDOWN_E_above', 'sr_A1_dosmodeldz2-r2DOWN_peak_above', 'sr_A1_dosmodeldxzDOWN_E_above', 'sr_A1_dosmodeldx2-y2DOWN_E_above', 'sr_A2_dosmodeldxyUP_E_below', 'sr_A2_dosmodeldx2-y2UP_E_below', 'sr_A2_dosmodeldx2-y2UP_peak_above', 'sr_A2_dosmodeldz2-r2DOWN_E_below', 'sr_A2_dosmodeldz2-r2DOWN_peak_below', 'sr_A2_dosmodeldx2-y2DOWN_E_below', 'sr_A2_dosmodeldxyDOWN_peak_above', 'sr_A2_dosmodeldyzDOWN_E_above', 'sr_A2_dosmodeldz2-r2DOWN_peak_above', 'sr_A2_dosmodeldxzDOWN_E_above']\n",
      "MAE=7.574121827634106 MSE=132.5993873478129 RMSE=11.515180734483193 R2=0.9584904313813868\n",
      "****\n",
      "****\n",
      "REQUIRED NUMBER OF FEATURES 45\n",
      "['BG_ind_down', 'dimer_len', 'h_substrate', 'sr_A1_dyzUP', 'sr_A1_dz2-r2UP', 'sr_A2_dz2-r2UP', 'sr_A1_dz2-r2DOWN', 'sr_A2_dz2-r2DOWN', 'sr_A2_dxzUP', 'sr_A1_dosmodeldyzUP_integral_below_1.0', 'sr_A1_dosmodeldz2-r2UP_integral_below_1.0', 'sr_A1_dosmodeldyzDOWN_integral_below_1.0', 'sr_A1_dosmodeldz2-r2DOWN_integral_below_1.0', 'sr_A1_dosmodeldxzDOWN_integral_below_1.0', 'sr_A1_dosmodeldxyDOWN_integral_above_1.0', 'sr_A1_dosmodeldz2-r2DOWN_integral_above_1.0', 'sr_A2_dosmodeldz2-r2UP_integral_below_1.0', 'sr_A2_dosmodeldyzDOWN_integral_below_1.0', 'sr_A2_dosmodeldz2-r2DOWN_integral_below_1.0', 'sr_A2_dosmodeldxzDOWN_integral_below_1.0', 'sr_A2_dosmodeldyzDOWN_integral_above_1.0', 'sr_A2_dosmodeldz2-r2DOWN_integral_above_1.0', 'bader_A1', 'bader_A2', 'sr_A1_dosmodeldyzUP_E_below', 'sr_A1_dosmodeldyzUP_E_above', 'sr_A1_dosmodeldyzUP_peak_above', 'sr_A1_dosmodeldz2-r2UP_E_above', 'sr_A1_dosmodeldxzUP_E_above', 'sr_A1_dosmodeldz2-r2DOWN_E_below', 'sr_A1_dosmodeldyzDOWN_E_above', 'sr_A1_dosmodeldz2-r2DOWN_peak_above', 'sr_A1_dosmodeldxzDOWN_E_above', 'sr_A1_dosmodeldx2-y2DOWN_E_above', 'sr_A2_dosmodeldxyUP_E_below', 'sr_A2_dosmodeldyzUP_peak_below', 'sr_A2_dosmodeldx2-y2UP_E_below', 'sr_A2_dosmodeldx2-y2UP_peak_above', 'sr_A2_dosmodeldxyDOWN_E_below', 'sr_A2_dosmodeldz2-r2DOWN_E_below', 'sr_A2_dosmodeldz2-r2DOWN_peak_below', 'sr_A2_dosmodeldxzDOWN_peak_below', 'sr_A2_dosmodeldyzDOWN_E_above', 'sr_A2_dosmodeldz2-r2DOWN_peak_above', 'sr_A2_dosmodeldxzDOWN_E_above']\n",
      "MAE=7.426895274099809 MSE=129.41092634870134 RMSE=11.375892331975603 R2=0.9594885629963031\n",
      "****\n",
      "****\n",
      "REQUIRED NUMBER OF FEATURES 50\n",
      "['BG_ind_up', 'BG_ind_down', 'dimer_len', 'sr_A1_dxyDOWN', 'sr_A1_dyzUP', 'sr_A2_dyzUP', 'sr_A1_dyzDOWN', 'sr_A1_dz2-r2UP', 'sr_A2_dz2-r2UP', 'sr_A1_dz2-r2DOWN', 'sr_A2_dz2-r2DOWN', 'sr_A2_dxzUP', 'sr_A1_dosmodeldyzUP_integral_below_1.0', 'sr_A1_dosmodeldz2-r2UP_integral_below_1.0', 'sr_A1_dosmodeldyzDOWN_integral_below_1.0', 'sr_A1_dosmodeldz2-r2DOWN_integral_below_1.0', 'sr_A1_dosmodeldxzDOWN_integral_below_1.0', 'sr_A1_dosmodeldz2-r2DOWN_integral_above_1.0', 'sr_A2_dosmodeldyzDOWN_integral_below_1.0', 'sr_A2_dosmodeldz2-r2DOWN_integral_below_1.0', 'sr_A2_dosmodeldxzDOWN_integral_below_1.0', 'sr_A2_dosmodeldyzDOWN_integral_above_1.0', 'sr_A2_dosmodeldz2-r2DOWN_integral_above_1.0', 'pot_A1', 'bader_A1', 'bader_A2', 'sr_A1_dosmodeldxyUP_E_below', 'sr_A1_dosmodeldyzUP_E_below', 'sr_A1_dosmodeldxzUP_peak_below', 'sr_A1_dosmodeldyzUP_E_above', 'sr_A1_dosmodeldyzUP_peak_above', 'sr_A1_dosmodeldz2-r2UP_E_above', 'sr_A1_dosmodeldxzUP_E_above', 'sr_A1_dosmodeldz2-r2DOWN_E_below', 'sr_A1_dosmodeldyzDOWN_E_above', 'sr_A1_dosmodeldxzDOWN_E_above', 'sr_A1_dosmodeldx2-y2DOWN_E_above', 'sr_A2_dosmodeldxyUP_E_below', 'sr_A2_dosmodeldyzUP_peak_below', 'sr_A2_dosmodeldx2-y2UP_E_below', 'sr_A2_dosmodeldz2-r2UP_E_above', 'sr_A2_dosmodeldx2-y2UP_peak_above', 'sr_A2_dosmodeldxyDOWN_peak_below', 'sr_A2_dosmodeldz2-r2DOWN_peak_below', 'sr_A2_dosmodeldxzDOWN_peak_below', 'sr_A2_dosmodeldx2-y2DOWN_E_below', 'sr_A2_dosmodeldxyDOWN_peak_above', 'sr_A2_dosmodeldyzDOWN_E_above', 'sr_A2_dosmodeldz2-r2DOWN_peak_above', 'sr_A2_dosmodeldxzDOWN_E_above']\n",
      "MAE=7.564405917746723 MSE=135.62292822297536 RMSE=11.645725749088177 R2=0.9575439271784711\n",
      "****\n",
      "****\n",
      "REQUIRED NUMBER OF FEATURES 55\n",
      "['BG_ind_up', 'BG_ind_down', 'BG_dir_up', 'dimer_len', 'h_substrate', 'sr_A1_dyzUP', 'sr_A2_dyzUP', 'sr_A1_dz2-r2UP', 'sr_A2_dz2-r2UP', 'sr_A1_dz2-r2DOWN', 'sr_A2_dz2-r2DOWN', 'sr_A1_dxzUP', 'sr_A2_dx2-y2DOWN', 'sr_A1_dosmodeldyzUP_integral_below_1.0', 'sr_A1_dosmodeldz2-r2UP_integral_below_1.0', 'sr_A1_dosmodeldyzDOWN_integral_below_1.0', 'sr_A1_dosmodeldz2-r2DOWN_integral_below_1.0', 'sr_A1_dosmodeldxzDOWN_integral_below_1.0', 'sr_A1_dosmodeldxyDOWN_integral_above_1.0', 'sr_A1_dosmodeldz2-r2DOWN_integral_above_1.0', 'sr_A2_dosmodeldxyUP_integral_below_1.0', 'sr_A2_dosmodeldz2-r2UP_integral_below_1.0', 'sr_A2_dosmodeldyzDOWN_integral_below_1.0', 'sr_A2_dosmodeldz2-r2DOWN_integral_below_1.0', 'sr_A2_dosmodeldxzDOWN_integral_below_1.0', 'sr_A2_dosmodeldyzDOWN_integral_above_1.0', 'sr_A2_dosmodeldz2-r2DOWN_integral_above_1.0', 'bader_A1', 'bader_A2', 'sr_A1_dosmodeldyzUP_E_below', 'sr_A1_dosmodeldxzUP_peak_below', 'sr_A1_dosmodeldyzUP_E_above', 'sr_A1_dosmodeldyzUP_peak_above', 'sr_A1_dosmodeldz2-r2UP_E_above', 'sr_A1_dosmodeldxzUP_E_above', 'sr_A1_dosmodeldx2-y2UP_E_above', 'sr_A1_dosmodeldz2-r2DOWN_E_below', 'sr_A1_dosmodeldx2-y2DOWN_E_below', 'sr_A1_dosmodeldxyDOWN_E_above', 'sr_A1_dosmodeldyzDOWN_E_above', 'sr_A1_dosmodeldz2-r2DOWN_peak_above', 'sr_A1_dosmodeldxzDOWN_E_above', 'sr_A2_dosmodeldxyUP_E_below', 'sr_A2_dosmodeldyzUP_peak_below', 'sr_A2_dosmodeldx2-y2UP_E_below', 'sr_A2_dosmodeldz2-r2UP_E_above', 'sr_A2_dosmodeldx2-y2UP_peak_above', 'sr_A2_dosmodeldxyDOWN_E_below', 'sr_A2_dosmodeldz2-r2DOWN_peak_below', 'sr_A2_dosmodeldx2-y2DOWN_E_below', 'sr_A2_dosmodeldxyDOWN_peak_above', 'sr_A2_dosmodeldyzDOWN_E_above', 'sr_A2_dosmodeldz2-r2DOWN_peak_above', 'sr_A2_dosmodeldxzDOWN_E_above', 'sr_A2_dosmodeldxzDOWN_peak_above']\n",
      "MAE=7.361296376200277 MSE=131.1799640218289 RMSE=11.453382208842456 R2=0.9589347746858867\n",
      "****\n",
      "****\n",
      "REQUIRED NUMBER OF FEATURES 60\n",
      "['BG_ind_up', 'BG_ind_down', 'BG_dir_up', 'dimer_len', 'h_substrate', 'tilt', 'sr_A1_dxyDOWN', 'sr_A1_dyzUP', 'sr_A2_dyzUP', 'sr_A1_dz2-r2UP', 'sr_A2_dz2-r2UP', 'sr_A1_dz2-r2DOWN', 'sr_A2_dz2-r2DOWN', 'sr_A1_dxzUP', 'sr_A2_dx2-y2DOWN', 'sr_A1_dosmodeldyzUP_integral_below_1.0', 'sr_A1_dosmodeldz2-r2UP_integral_below_1.0', 'sr_A1_dosmodeldz2-r2DOWN_integral_below_1.0', 'sr_A1_dosmodeldxzDOWN_integral_below_1.0', 'sr_A1_dosmodeldxyDOWN_integral_above_1.0', 'sr_A1_dosmodeldz2-r2DOWN_integral_above_1.0', 'sr_A2_dosmodeldz2-r2UP_integral_below_1.0', 'sr_A2_dosmodeldyzDOWN_integral_below_1.0', 'sr_A2_dosmodeldz2-r2DOWN_integral_below_1.0', 'sr_A2_dosmodeldxzDOWN_integral_below_1.0', 'sr_A2_dosmodeldyzDOWN_integral_above_1.0', 'sr_A2_dosmodeldz2-r2DOWN_integral_above_1.0', 'sr_A2_dosmodeldxzDOWN_integral_above_1.0', 'pot_A1', 'bader_A1', 'bader_A2', 'sr_A1_dosmodeldxyUP_E_below', 'sr_A1_dosmodeldyzUP_E_below', 'sr_A1_dosmodeldxzUP_peak_below', 'sr_A1_dosmodeldx2-y2UP_E_below', 'sr_A1_dosmodeldyzUP_E_above', 'sr_A1_dosmodeldyzUP_peak_above', 'sr_A1_dosmodeldz2-r2UP_E_above', 'sr_A1_dosmodeldxzUP_E_above', 'sr_A1_dosmodeldz2-r2DOWN_E_below', 'sr_A1_dosmodeldxyDOWN_peak_above', 'sr_A1_dosmodeldyzDOWN_E_above', 'sr_A1_dosmodeldz2-r2DOWN_peak_above', 'sr_A1_dosmodeldxzDOWN_E_above', 'sr_A1_dosmodeldxzDOWN_peak_above', 'sr_A1_dosmodeldx2-y2DOWN_E_above', 'sr_A1_dosmodeldx2-y2DOWN_peak_above', 'sr_A2_dosmodeldxyUP_E_below', 'sr_A2_dosmodeldyzUP_peak_below', 'sr_A2_dosmodeldx2-y2UP_E_below', 'sr_A2_dosmodeldz2-r2UP_E_above', 'sr_A2_dosmodeldx2-y2UP_peak_above', 'sr_A2_dosmodeldxyDOWN_E_below', 'sr_A2_dosmodeldxyDOWN_peak_below', 'sr_A2_dosmodeldyzDOWN_E_below', 'sr_A2_dosmodeldz2-r2DOWN_peak_below', 'sr_A2_dosmodeldx2-y2DOWN_E_below', 'sr_A2_dosmodeldyzDOWN_E_above', 'sr_A2_dosmodeldz2-r2DOWN_peak_above', 'sr_A2_dosmodeldxzDOWN_E_above']\n",
      "MAE=7.296906728340926 MSE=126.48186495035368 RMSE=11.246415649012519 R2=0.9604054908760974\n",
      "****\n",
      "****\n",
      "REQUIRED NUMBER OF FEATURES 65\n",
      "['BG_ind_up', 'BG_ind_down', 'BG_dir_up', 'dimer_len', 'h_substrate', 'sr_A1_dxyDOWN', 'sr_A2_dxyDOWN', 'sr_A1_dyzUP', 'sr_A2_dyzUP', 'sr_A1_dz2-r2UP', 'sr_A2_dz2-r2UP', 'sr_A1_dz2-r2DOWN', 'sr_A2_dz2-r2DOWN', 'sr_A1_dxzUP', 'sr_A2_dxzUP', 'sr_A2_dx2-y2DOWN', 'sr_A1_dosmodeldyzUP_integral_below_1.0', 'sr_A1_dosmodeldz2-r2UP_integral_below_1.0', 'sr_A1_dosmodeldz2-r2DOWN_integral_below_1.0', 'sr_A1_dosmodeldxzDOWN_integral_below_1.0', 'sr_A1_dosmodeldz2-r2DOWN_integral_above_1.0', 'sr_A2_dosmodeldxyUP_integral_below_1.0', 'sr_A2_dosmodeldz2-r2UP_integral_below_1.0', 'sr_A2_dosmodeldxyDOWN_integral_below_1.0', 'sr_A2_dosmodeldyzDOWN_integral_below_1.0', 'sr_A2_dosmodeldz2-r2DOWN_integral_below_1.0', 'sr_A2_dosmodeldxzDOWN_integral_below_1.0', 'sr_A2_dosmodeldyzDOWN_integral_above_1.0', 'sr_A2_dosmodeldz2-r2DOWN_integral_above_1.0', 'pot_A1', 'bader_A1', 'bader_A2', 'sr_A1_dosmodeldxyUP_E_below', 'sr_A1_dosmodeldyzUP_E_below', 'sr_A1_dosmodeldxzUP_E_below', 'sr_A1_dosmodeldxzUP_peak_below', 'sr_A1_dosmodeldyzUP_E_above', 'sr_A1_dosmodeldyzUP_peak_above', 'sr_A1_dosmodeldz2-r2UP_E_above', 'sr_A1_dosmodeldxzUP_E_above', 'sr_A1_dosmodeldx2-y2UP_peak_above', 'sr_A1_dosmodeldz2-r2DOWN_E_below', 'sr_A1_dosmodeldxzDOWN_E_below', 'sr_A1_dosmodeldxyDOWN_peak_above', 'sr_A1_dosmodeldyzDOWN_E_above', 'sr_A1_dosmodeldz2-r2DOWN_peak_above', 'sr_A1_dosmodeldxzDOWN_E_above', 'sr_A1_dosmodeldx2-y2DOWN_E_above', 'sr_A1_dosmodeldx2-y2DOWN_peak_above', 'sr_A2_dosmodeldxyUP_E_below', 'sr_A2_dosmodeldyzUP_peak_below', 'sr_A2_dosmodeldx2-y2UP_E_below', 'sr_A2_dosmodeldx2-y2UP_peak_below', 'sr_A2_dosmodeldz2-r2UP_E_above', 'sr_A2_dosmodeldx2-y2UP_peak_above', 'sr_A2_dosmodeldxyDOWN_E_below', 'sr_A2_dosmodeldxyDOWN_peak_below', 'sr_A2_dosmodeldz2-r2DOWN_E_below', 'sr_A2_dosmodeldz2-r2DOWN_peak_below', 'sr_A2_dosmodeldxzDOWN_peak_below', 'sr_A2_dosmodeldx2-y2DOWN_E_below', 'sr_A2_dosmodeldyzDOWN_E_above', 'sr_A2_dosmodeldz2-r2DOWN_peak_above', 'sr_A2_dosmodeldxzDOWN_E_above', 'sr_A2_dosmodeldxzDOWN_peak_above']\n",
      "MAE=7.5155925153237 MSE=134.13619727699978 RMSE=11.58171823508929 R2=0.9580093407935244\n",
      "****\n",
      "****\n",
      "REQUIRED NUMBER OF FEATURES 70\n",
      "['BG_ind_up', 'BG_ind_down', 'BG_dir_up', 'dimer_len', 'h_substrate', 'sr_A1_dxyDOWN', 'sr_A2_dxyDOWN', 'sr_A1_dyzUP', 'sr_A2_dyzUP', 'sr_A1_dyzDOWN', 'sr_A1_dz2-r2UP', 'sr_A2_dz2-r2UP', 'sr_A1_dz2-r2DOWN', 'sr_A2_dz2-r2DOWN', 'sr_A1_dxzUP', 'sr_A2_dx2-y2DOWN', 'sr_A1_dosmodeldyzUP_integral_below_1.0', 'sr_A1_dosmodeldz2-r2UP_integral_below_1.0', 'sr_A1_dosmodeldz2-r2DOWN_integral_below_1.0', 'sr_A1_dosmodeldxzDOWN_integral_below_1.0', 'sr_A1_dosmodeldz2-r2DOWN_integral_above_1.0', 'sr_A2_dosmodeldz2-r2UP_integral_below_1.0', 'sr_A2_dosmodeldyzDOWN_integral_below_1.0', 'sr_A2_dosmodeldz2-r2DOWN_integral_below_1.0', 'sr_A2_dosmodeldxzDOWN_integral_below_1.0', 'sr_A2_dosmodeldyzDOWN_integral_above_1.0', 'sr_A2_dosmodeldz2-r2DOWN_integral_above_1.0', 'sr_A2_dosmodeldxzDOWN_integral_above_1.0', 'pot_A1', 'bader_A1', 'bader_A2', 'sr_A1_dosmodeldxyUP_E_below', 'sr_A1_dosmodeldyzUP_E_below', 'sr_A1_dosmodeldxzUP_E_below', 'sr_A1_dosmodeldxzUP_peak_below', 'sr_A1_dosmodeldyzUP_E_above', 'sr_A1_dosmodeldyzUP_peak_above', 'sr_A1_dosmodeldz2-r2UP_E_above', 'sr_A1_dosmodeldxzUP_E_above', 'sr_A1_dosmodeldx2-y2UP_E_above', 'sr_A1_dosmodeldx2-y2UP_peak_above', 'sr_A1_dosmodeldz2-r2DOWN_E_below', 'sr_A1_dosmodeldxzDOWN_E_below', 'sr_A1_dosmodeldx2-y2DOWN_peak_below', 'sr_A1_dosmodeldxyDOWN_E_above', 'sr_A1_dosmodeldyzDOWN_E_above', 'sr_A1_dosmodeldz2-r2DOWN_peak_above', 'sr_A1_dosmodeldxzDOWN_E_above', 'sr_A1_dosmodeldxzDOWN_peak_above', 'sr_A1_dosmodeldx2-y2DOWN_E_above', 'sr_A1_dosmodeldx2-y2DOWN_peak_above', 'sr_A2_dosmodeldxyUP_E_below', 'sr_A2_dosmodeldyzUP_E_below', 'sr_A2_dosmodeldyzUP_peak_below', 'sr_A2_dosmodeldx2-y2UP_E_below', 'sr_A2_dosmodeldz2-r2UP_E_above', 'sr_A2_dosmodeldx2-y2UP_peak_above', 'sr_A2_dosmodeldxyDOWN_E_below', 'sr_A2_dosmodeldxyDOWN_peak_below', 'sr_A2_dosmodeldyzDOWN_E_below', 'sr_A2_dosmodeldz2-r2DOWN_E_below', 'sr_A2_dosmodeldz2-r2DOWN_peak_below', 'sr_A2_dosmodeldxzDOWN_peak_below', 'sr_A2_dosmodeldx2-y2DOWN_E_below', 'sr_A2_dosmodeldxyDOWN_peak_above', 'sr_A2_dosmodeldyzDOWN_E_above', 'sr_A2_dosmodeldz2-r2DOWN_E_above', 'sr_A2_dosmodeldz2-r2DOWN_peak_above', 'sr_A2_dosmodeldxzDOWN_E_above', 'sr_A2_dosmodeldxzDOWN_peak_above']\n",
      "MAE=7.655675633699202 MSE=137.11179399868362 RMSE=11.709474539819608 R2=0.9570778452657505\n",
      "****\n",
      "****\n",
      "REQUIRED NUMBER OF FEATURES 80\n",
      "['BG_ind_up', 'BG_ind_down', 'BG_dir_up', 'BG_dir_down', 'dimer_len', 'h_substrate', 'tilt', 'sr_A1_dxyDOWN', 'sr_A2_dxyDOWN', 'sr_A1_dyzUP', 'sr_A2_dyzUP', 'sr_A1_dyzDOWN', 'sr_A1_dz2-r2UP', 'sr_A2_dz2-r2UP', 'sr_A1_dz2-r2DOWN', 'sr_A2_dz2-r2DOWN', 'sr_A1_dxzUP', 'sr_A2_dxzUP', 'sr_A2_dx2-y2DOWN', 'sr_A1_dosmodeldyzUP_integral_below_1.0', 'sr_A1_dosmodeldz2-r2UP_integral_below_1.0', 'sr_A1_dosmodeldxzUP_integral_below_1.0', 'sr_A1_dosmodeldz2-r2UP_integral_above_1.0', 'sr_A1_dosmodeldyzDOWN_integral_below_1.0', 'sr_A1_dosmodeldz2-r2DOWN_integral_below_1.0', 'sr_A1_dosmodeldxzDOWN_integral_below_1.0', 'sr_A1_dosmodeldxyDOWN_integral_above_1.0', 'sr_A1_dosmodeldz2-r2DOWN_integral_above_1.0', 'sr_A2_dosmodeldxyUP_integral_below_1.0', 'sr_A2_dosmodeldz2-r2UP_integral_below_1.0', 'sr_A2_dosmodeldxyDOWN_integral_below_1.0', 'sr_A2_dosmodeldyzDOWN_integral_below_1.0', 'sr_A2_dosmodeldz2-r2DOWN_integral_below_1.0', 'sr_A2_dosmodeldxzDOWN_integral_below_1.0', 'sr_A2_dosmodeldyzDOWN_integral_above_1.0', 'sr_A2_dosmodeldz2-r2DOWN_integral_above_1.0', 'bader_A1', 'bader_A2', 'sr_A1_dosmodeldxyUP_peak_below', 'sr_A1_dosmodeldyzUP_E_below', 'sr_A1_dosmodeldxzUP_E_below', 'sr_A1_dosmodeldxzUP_peak_below', 'sr_A1_dosmodeldxyUP_E_above', 'sr_A1_dosmodeldyzUP_E_above', 'sr_A1_dosmodeldyzUP_peak_above', 'sr_A1_dosmodeldz2-r2UP_E_above', 'sr_A1_dosmodeldxzUP_E_above', 'sr_A1_dosmodeldx2-y2UP_E_above', 'sr_A1_dosmodeldx2-y2UP_peak_above', 'sr_A1_dosmodeldz2-r2DOWN_E_below', 'sr_A1_dosmodeldxzDOWN_E_below', 'sr_A1_dosmodeldx2-y2DOWN_E_below', 'sr_A1_dosmodeldxyDOWN_peak_above', 'sr_A1_dosmodeldyzDOWN_E_above', 'sr_A1_dosmodeldyzDOWN_peak_above', 'sr_A1_dosmodeldz2-r2DOWN_peak_above', 'sr_A1_dosmodeldxzDOWN_E_above', 'sr_A1_dosmodeldxzDOWN_peak_above', 'sr_A1_dosmodeldx2-y2DOWN_E_above', 'sr_A1_dosmodeldx2-y2DOWN_peak_above', 'sr_A2_dosmodeldxyUP_E_below', 'sr_A2_dosmodeldyzUP_E_below', 'sr_A2_dosmodeldyzUP_peak_below', 'sr_A2_dosmodeldx2-y2UP_E_below', 'sr_A2_dosmodeldz2-r2UP_E_above', 'sr_A2_dosmodeldxzUP_E_above', 'sr_A2_dosmodeldx2-y2UP_peak_above', 'sr_A2_dosmodeldxyDOWN_E_below', 'sr_A2_dosmodeldxyDOWN_peak_below', 'sr_A2_dosmodeldyzDOWN_E_below', 'sr_A2_dosmodeldz2-r2DOWN_E_below', 'sr_A2_dosmodeldz2-r2DOWN_peak_below', 'sr_A2_dosmodeldxzDOWN_E_below', 'sr_A2_dosmodeldxzDOWN_peak_below', 'sr_A2_dosmodeldx2-y2DOWN_E_below', 'sr_A2_dosmodeldxyDOWN_peak_above', 'sr_A2_dosmodeldyzDOWN_E_above', 'sr_A2_dosmodeldz2-r2DOWN_peak_above', 'sr_A2_dosmodeldxzDOWN_E_above', 'sr_A2_dosmodeldxzDOWN_peak_above']\n",
      "MAE=7.490994417826229 MSE=137.1129443887825 RMSE=11.709523661907964 R2=0.9570774851419391\n",
      "****\n",
      "****\n",
      "REQUIRED NUMBER OF FEATURES 90\n",
      "['BG_ind_up', 'BG_ind_down', 'BG_dir_up', 'dimer_len', 'h_substrate', 'sr_A1_dxyDOWN', 'sr_A2_dxyDOWN', 'sr_A1_dyzUP', 'sr_A2_dyzUP', 'sr_A1_dz2-r2UP', 'sr_A2_dz2-r2UP', 'sr_A1_dz2-r2DOWN', 'sr_A2_dz2-r2DOWN', 'sr_A1_dxzUP', 'sr_A2_dxzUP', 'sr_A2_dx2-y2UP', 'sr_A2_dx2-y2DOWN', 'sr_A1_dosmodeldxyUP_integral_below_1.0', 'sr_A1_dosmodeldyzUP_integral_below_1.0', 'sr_A1_dosmodeldz2-r2UP_integral_below_1.0', 'sr_A1_dosmodeldxyDOWN_integral_below_1.0', 'sr_A1_dosmodeldyzDOWN_integral_below_1.0', 'sr_A1_dosmodeldz2-r2DOWN_integral_below_1.0', 'sr_A1_dosmodeldxzDOWN_integral_below_1.0', 'sr_A1_dosmodeldxyDOWN_integral_above_1.0', 'sr_A1_dosmodeldyzDOWN_integral_above_1.0', 'sr_A1_dosmodeldz2-r2DOWN_integral_above_1.0', 'sr_A2_dosmodeldxyUP_integral_below_1.0', 'sr_A2_dosmodeldz2-r2UP_integral_below_1.0', 'sr_A2_dosmodeldxzUP_integral_below_1.0', 'sr_A2_dosmodeldx2-y2UP_integral_below_1.0', 'sr_A2_dosmodeldyzDOWN_integral_below_1.0', 'sr_A2_dosmodeldz2-r2DOWN_integral_below_1.0', 'sr_A2_dosmodeldxzDOWN_integral_below_1.0', 'sr_A2_dosmodeldyzDOWN_integral_above_1.0', 'sr_A2_dosmodeldz2-r2DOWN_integral_above_1.0', 'sr_A2_dosmodeldxzDOWN_integral_above_1.0', 'sr_A2_dosmodeldx2-y2DOWN_integral_above_1.0', 'pot_A1', 'bader_A1', 'bader_A2', 'sr_A1_dosmodeldxyUP_peak_below', 'sr_A1_dosmodeldyzUP_E_below', 'sr_A1_dosmodeldz2-r2UP_E_below', 'sr_A1_dosmodeldxzUP_peak_below', 'sr_A1_dosmodeldxyUP_E_above', 'sr_A1_dosmodeldyzUP_E_above', 'sr_A1_dosmodeldyzUP_peak_above', 'sr_A1_dosmodeldz2-r2UP_E_above', 'sr_A1_dosmodeldxzUP_E_above', 'sr_A1_dosmodeldx2-y2UP_E_above', 'sr_A1_dosmodeldx2-y2UP_peak_above', 'sr_A1_dosmodeldz2-r2DOWN_E_below', 'sr_A1_dosmodeldxzDOWN_E_below', 'sr_A1_dosmodeldx2-y2DOWN_E_below', 'sr_A1_dosmodeldxyDOWN_E_above', 'sr_A1_dosmodeldxyDOWN_peak_above', 'sr_A1_dosmodeldyzDOWN_E_above', 'sr_A1_dosmodeldz2-r2DOWN_peak_above', 'sr_A1_dosmodeldxzDOWN_E_above', 'sr_A1_dosmodeldxzDOWN_peak_above', 'sr_A1_dosmodeldx2-y2DOWN_E_above', 'sr_A1_dosmodeldx2-y2DOWN_peak_above', 'sr_A2_dosmodeldxyUP_E_below', 'sr_A2_dosmodeldyzUP_E_below', 'sr_A2_dosmodeldyzUP_peak_below', 'sr_A2_dosmodeldz2-r2UP_E_below', 'sr_A2_dosmodeldz2-r2UP_peak_below', 'sr_A2_dosmodeldxzUP_E_below', 'sr_A2_dosmodeldx2-y2UP_E_below', 'sr_A2_dosmodeldx2-y2UP_peak_below', 'sr_A2_dosmodeldxyUP_E_above', 'sr_A2_dosmodeldz2-r2UP_E_above', 'sr_A2_dosmodeldx2-y2UP_peak_above', 'sr_A2_dosmodeldxyDOWN_E_below', 'sr_A2_dosmodeldxyDOWN_peak_below', 'sr_A2_dosmodeldyzDOWN_E_below', 'sr_A2_dosmodeldyzDOWN_peak_below', 'sr_A2_dosmodeldz2-r2DOWN_E_below', 'sr_A2_dosmodeldz2-r2DOWN_peak_below', 'sr_A2_dosmodeldxzDOWN_E_below', 'sr_A2_dosmodeldxzDOWN_peak_below', 'sr_A2_dosmodeldx2-y2DOWN_E_below', 'sr_A2_dosmodeldx2-y2DOWN_peak_below', 'sr_A2_dosmodeldxyDOWN_E_above', 'sr_A2_dosmodeldxyDOWN_peak_above', 'sr_A2_dosmodeldyzDOWN_E_above', 'sr_A2_dosmodeldz2-r2DOWN_peak_above', 'sr_A2_dosmodeldxzDOWN_E_above', 'sr_A2_dosmodeldxzDOWN_peak_above']\n",
      "MAE=7.639331028431111 MSE=139.19172869283412 RMSE=11.797954428325028 R2=0.9564267322128477\n",
      "****\n",
      "****\n",
      "REQUIRED NUMBER OF FEATURES 100\n",
      "['BG_ind_up', 'BG_ind_down', 'BG_dir_up', 'dimer_len', 'h_substrate', 'tilt', 'sr_A1_dxyDOWN', 'sr_A2_dxyDOWN', 'sr_A1_dyzUP', 'sr_A2_dyzUP', 'sr_A1_dyzDOWN', 'sr_A1_dz2-r2UP', 'sr_A2_dz2-r2UP', 'sr_A1_dz2-r2DOWN', 'sr_A2_dz2-r2DOWN', 'sr_A1_dxzUP', 'sr_A2_dxzDOWN', 'sr_A2_dx2-y2UP', 'sr_A1_dx2-y2DOWN', 'sr_A2_dx2-y2DOWN', 'sr_A1_dosmodeldxyUP_integral_below_1.0', 'sr_A1_dosmodeldyzUP_integral_below_1.0', 'sr_A1_dosmodeldz2-r2UP_integral_below_1.0', 'sr_A1_dosmodeldxzUP_integral_below_1.0', 'sr_A1_dosmodeldx2-y2UP_integral_below_1.0', 'sr_A1_dosmodeldxyDOWN_integral_below_1.0', 'sr_A1_dosmodeldyzDOWN_integral_below_1.0', 'sr_A1_dosmodeldz2-r2DOWN_integral_below_1.0', 'sr_A1_dosmodeldxzDOWN_integral_below_1.0', 'sr_A1_dosmodeldxyDOWN_integral_above_1.0', 'sr_A1_dosmodeldyzDOWN_integral_above_1.0', 'sr_A1_dosmodeldz2-r2DOWN_integral_above_1.0', 'sr_A2_dosmodeldxyUP_integral_below_1.0', 'sr_A2_dosmodeldz2-r2UP_integral_below_1.0', 'sr_A2_dosmodeldxzUP_integral_below_1.0', 'sr_A2_dosmodeldx2-y2UP_integral_below_1.0', 'sr_A2_dosmodeldyzUP_integral_above_1.0', 'sr_A2_dosmodeldyzDOWN_integral_below_1.0', 'sr_A2_dosmodeldz2-r2DOWN_integral_below_1.0', 'sr_A2_dosmodeldxzDOWN_integral_below_1.0', 'sr_A2_dosmodeldyzDOWN_integral_above_1.0', 'sr_A2_dosmodeldz2-r2DOWN_integral_above_1.0', 'sr_A2_dosmodeldxzDOWN_integral_above_1.0', 'sr_A2_dosmodeldx2-y2DOWN_integral_above_1.0', 'pot_A1', 'bader_A1', 'bader_A2', 'sr_A1_dosmodeldxyUP_E_below', 'sr_A1_dosmodeldxyUP_peak_below', 'sr_A1_dosmodeldyzUP_E_below', 'sr_A1_dosmodeldxzUP_E_below', 'sr_A1_dosmodeldxzUP_peak_below', 'sr_A1_dosmodeldxyUP_E_above', 'sr_A1_dosmodeldyzUP_E_above', 'sr_A1_dosmodeldyzUP_peak_above', 'sr_A1_dosmodeldz2-r2UP_E_above', 'sr_A1_dosmodeldxzUP_E_above', 'sr_A1_dosmodeldx2-y2UP_E_above', 'sr_A1_dosmodeldx2-y2UP_peak_above', 'sr_A1_dosmodeldxyDOWN_E_below', 'sr_A1_dosmodeldz2-r2DOWN_E_below', 'sr_A1_dosmodeldz2-r2DOWN_peak_below', 'sr_A1_dosmodeldxzDOWN_E_below', 'sr_A1_dosmodeldx2-y2DOWN_E_below', 'sr_A1_dosmodeldxyDOWN_E_above', 'sr_A1_dosmodeldxyDOWN_peak_above', 'sr_A1_dosmodeldyzDOWN_E_above', 'sr_A1_dosmodeldz2-r2DOWN_peak_above', 'sr_A1_dosmodeldxzDOWN_E_above', 'sr_A1_dosmodeldxzDOWN_peak_above', 'sr_A1_dosmodeldx2-y2DOWN_E_above', 'sr_A1_dosmodeldx2-y2DOWN_peak_above', 'sr_A2_dosmodeldxyUP_E_below', 'sr_A2_dosmodeldyzUP_E_below', 'sr_A2_dosmodeldyzUP_peak_below', 'sr_A2_dosmodeldz2-r2UP_peak_below', 'sr_A2_dosmodeldxzUP_E_below', 'sr_A2_dosmodeldxzUP_peak_below', 'sr_A2_dosmodeldx2-y2UP_E_below', 'sr_A2_dosmodeldx2-y2UP_peak_below', 'sr_A2_dosmodeldyzUP_peak_above', 'sr_A2_dosmodeldz2-r2UP_E_above', 'sr_A2_dosmodeldz2-r2UP_peak_above', 'sr_A2_dosmodeldxzUP_E_above', 'sr_A2_dosmodeldx2-y2UP_peak_above', 'sr_A2_dosmodeldxyDOWN_E_below', 'sr_A2_dosmodeldxyDOWN_peak_below', 'sr_A2_dosmodeldyzDOWN_E_below', 'sr_A2_dosmodeldz2-r2DOWN_E_below', 'sr_A2_dosmodeldz2-r2DOWN_peak_below', 'sr_A2_dosmodeldxzDOWN_E_below', 'sr_A2_dosmodeldxzDOWN_peak_below', 'sr_A2_dosmodeldx2-y2DOWN_E_below', 'sr_A2_dosmodeldx2-y2DOWN_peak_below', 'sr_A2_dosmodeldxyDOWN_E_above', 'sr_A2_dosmodeldxyDOWN_peak_above', 'sr_A2_dosmodeldyzDOWN_E_above', 'sr_A2_dosmodeldz2-r2DOWN_peak_above', 'sr_A2_dosmodeldxzDOWN_E_above', 'sr_A2_dosmodeldxzDOWN_peak_above']\n",
      "MAE=7.635141194523392 MSE=139.17831574723718 RMSE=11.797385970935984 R2=0.956430931067735\n",
      "****\n"
     ]
    }
   ],
   "source": [
    "# Feature selection with CV\n",
    "num_features_to_selects = [2, 3, 5, 6, 7, 8, 9, 10, 12, 15, 17, 20, 25, 30, 35, 40, 45, 50, 55, 60, 65, 70, 80, 90, 100]\n",
    "\n",
    "mse_feature = []\n",
    "mae_feature = []\n",
    "r2_feature = []\n",
    "features_selection = {}\n",
    "\n",
    "for num_features_to_select in num_features_to_selects:\n",
    "    mod = CatBoostRegressor(cat_features=cat_features)\n",
    "    summary = mod.select_features(df, target,\n",
    "                          features_for_select=list(range(df.shape[1])),\n",
    "                          num_features_to_select=num_features_to_select,\n",
    "                          steps=20,\n",
    "                          algorithm=EFeaturesSelectionAlgorithm.RecursiveByShapValues,\n",
    "                          shap_calc_type=EShapCalcType.Regular,\n",
    "                          train_final_model=True,\n",
    "                          plot=False, logging_level='Silent')\n",
    "\n",
    "    features_selection[num_features_to_select] = summary['selected_features_names']\n",
    "    df_selected = df[summary['selected_features_names']]\n",
    "    cb_mod = CatBoostRegressor(**cb_hyperparams, cat_features=cat_features, verbose=False)\n",
    "    cv_cb_fetures = cross_validate(cb_mod, df_selected, target, cv=5, scoring=scoring, \n",
    "                           return_train_score=True, \n",
    "                           return_estimator=True,\n",
    "                           return_indices=True)\n",
    "    y_pred_folds, y_test_folds = prediction_on_folds(cv_cb_fetures, df_selected, target)\n",
    "    mae = mean_absolute_error(y_test_folds, y_pred_folds)\n",
    "    mse = mean_squared_error(y_test_folds, y_pred_folds)\n",
    "    r2 = r2_score(y_test_folds, y_pred_folds)\n",
    "    mse_feature.append(mse)\n",
    "    mae_feature.append(mae)\n",
    "    r2_feature.append(r2)\n",
    "    print('****')\n",
    "    print(f'REQUIRED NUMBER OF FEATURES {num_features_to_select}')\n",
    "    print(summary['selected_features_names'])\n",
    "    print(f'MAE={mae} MSE={mse} RMSE={np.sqrt(mse)} R2={r2}')\n",
    "    print('****')"
   ]
  },
  {
   "cell_type": "markdown",
   "id": "5a96e210-70f5-45bc-a8d1-bdb328a12512",
   "metadata": {},
   "source": [
    "# Build models for list selected 25 features"
   ]
  },
  {
   "cell_type": "code",
   "execution_count": 12,
   "id": "bb73eb04-6eac-4294-befb-6c05aa256aa2",
   "metadata": {},
   "outputs": [
    {
     "name": "stdout",
     "output_type": "stream",
     "text": [
      "FEATURES: ['BG_ind_down', 'dimer_len', 'sr_A1_dz2-r2DOWN', 'sr_A2_dz2-r2DOWN', 'sr_A2_dxzUP', 'sr_A1_dosmodeldyzUP_integral_below_1.0', 'sr_A1_dosmodeldz2-r2UP_integral_below_1.0', 'sr_A1_dosmodeldyzDOWN_integral_below_1.0', 'sr_A1_dosmodeldz2-r2DOWN_integral_below_1.0', 'sr_A1_dosmodeldxzDOWN_integral_below_1.0', 'sr_A2_dosmodeldyzDOWN_integral_below_1.0', 'sr_A2_dosmodeldz2-r2DOWN_integral_below_1.0', 'sr_A2_dosmodeldxzDOWN_integral_below_1.0', 'sr_A2_dosmodeldz2-r2DOWN_integral_above_1.0', 'bader_A2', 'sr_A1_dosmodeldyzUP_E_below', 'sr_A1_dosmodeldyzUP_E_above', 'sr_A1_dosmodeldyzUP_peak_above', 'sr_A1_dosmodeldz2-r2UP_E_above', 'sr_A1_dosmodeldyzDOWN_E_above', 'sr_A2_dosmodeldxyUP_E_below', 'sr_A2_dosmodeldx2-y2UP_E_below', 'sr_A2_dosmodeldyzDOWN_E_above', 'sr_A2_dosmodeldz2-r2DOWN_peak_above', 'sr_A2_dosmodeldxzDOWN_E_above']\n"
     ]
    }
   ],
   "source": [
    "N_FEATURES = 25\n",
    "FEATURES = features_selection[N_FEATURES]\n",
    "print(f'FEATURES: {FEATURES}')\n",
    "df_selected = df[FEATURES].copy()\n",
    "\n",
    "df_es_selected = df_es[FEATURES]\n",
    "# prepare data for LinearRegression\n",
    "# remove NaNs\n",
    "# do one-hot encodings\n",
    "df_nonans_selected = df_selected.dropna(axis=1)\n",
    "df_es_nonans_selected = df_es_selected.dropna(axis=1)\n",
    "no_nans_common_columns = list(set(df_nonans_selected.columns).intersection(df_es_nonans_selected.columns))\n",
    "df_nonans_selected = df_nonans_selected[no_nans_common_columns]\n",
    "df_es_nonans_selected = df_es_nonans_selected[no_nans_common_columns]\n",
    "\n",
    "cat_features_selected = categorical_features(df_selected)\n",
    "cat_features_nonans_selected = categorical_features(df_nonans_selected)\n",
    "df_nonans_onehot_selected = pd.get_dummies(df_nonans_selected, columns=cat_features_nonans_selected)\n",
    "df_es_nonans_onehot_selected = pd.get_dummies(df_es_nonans_selected, columns=cat_features_nonans_selected)\n",
    "\n",
    "cat_features_nonans_selected = categorical_features(df_nonans_selected)\n",
    "df_nonans_selected_onehot = pd.get_dummies(df_nonans_selected, columns=cat_features_nonans_selected)"
   ]
  },
  {
   "cell_type": "code",
   "execution_count": 13,
   "id": "615980f9-43b8-4c66-b16b-321324178f1d",
   "metadata": {},
   "outputs": [
    {
     "data": {
      "text/plain": [
       "['$BG_\\\\text{ind}^{\\\\downarrow}$',\n",
       " '$d_{len}$',\n",
       " '$DOS_{B, d_{z^2}}^{\\\\downarrow}$',\n",
       " '$DOS_{T, d_{z^2}}^{\\\\downarrow}$',\n",
       " '$DOS_{T, d_{xz}}^{\\\\uparrow}$',\n",
       " '$I_{B, d_{yz}}^{\\\\uparrow -}$',\n",
       " '$I_{B, d_{z^2}}^{\\\\uparrow -}$',\n",
       " '$I_{B, d_{yz}}^{\\\\downarrow -}$',\n",
       " '$I_{B, d_{z^2}}^{\\\\downarrow -}$',\n",
       " '$I_{B, d_{xz}}^{\\\\downarrow -}$',\n",
       " '$I_{T, d_{yz}}^{\\\\downarrow -}$',\n",
       " '$I_{T, d_{z^2}}^{\\\\downarrow -}$',\n",
       " '$I_{T, d_{xz}}^{\\\\downarrow -}$',\n",
       " '$I_{T, d_{z^2}}^{\\\\downarrow +}$',\n",
       " '$q_T$',\n",
       " '$E_{B, d_{yz}}^{\\\\uparrow -}$',\n",
       " '$E_{B, d_{yz}}^{\\\\uparrow +}$',\n",
       " '$D_{B, d_{yz}}^{\\\\uparrow +}$',\n",
       " '$E_{B, d_{z^2}}^{\\\\uparrow +}$',\n",
       " '$E_{B, d_{yz}}^{\\\\downarrow +}$',\n",
       " '$E_{T, d_{xy}}^{\\\\uparrow -}$',\n",
       " '$E_{T, d_{x^2-y^2}}^{\\\\uparrow -}$',\n",
       " '$E_{T, d_{yz}}^{\\\\downarrow +}$',\n",
       " '$D_{T, d_{z^2}}^{\\\\downarrow +}$',\n",
       " '$E_{T, d_{xz}}^{\\\\downarrow +}$']"
      ]
     },
     "execution_count": 13,
     "metadata": {},
     "output_type": "execute_result"
    }
   ],
   "source": [
    "# print selected features in LaTeX format\n",
    "[labels(f) for f in FEATURES]"
   ]
  },
  {
   "cell_type": "code",
   "execution_count": 14,
   "id": "f8cc16ba-0095-42b8-b123-6eb7838c4dff",
   "metadata": {},
   "outputs": [],
   "source": [
    "lasso = Lasso(alpha=0.1)\n",
    "cv_lasso_selected = cross_validate(lasso, df_nonans_selected_onehot, target, cv=5, scoring=scoring,                            \n",
    "                              return_train_score=True, \n",
    "                              return_estimator=True,\n",
    "                              return_indices=True)\n",
    "\n",
    "cv_lr_selected = cross_validate(lr,df_nonans_selected_onehot, target, cv=5, scoring=scoring,                            \n",
    "                              return_train_score=True, \n",
    "                              return_estimator=True,\n",
    "                              return_indices=True)\n",
    "\n",
    "cb = CatBoostRegressor(verbose=False, cat_features=cat_features_selected)\n",
    "cv_cb_selected = cross_validate(cb, df_selected, target, cv=5, scoring=scoring, \n",
    "                           return_train_score=True, \n",
    "                           return_estimator=True,\n",
    "                           return_indices=True)"
   ]
  },
  {
   "cell_type": "code",
   "execution_count": 15,
   "id": "5a45879b-4b73-48ed-a31b-586f7f140e24",
   "metadata": {},
   "outputs": [],
   "source": [
    "nocv_cb_selected = train_nocv(cb, df_selected, target)\n",
    "nocv_lasso_selected = train_nocv(lasso, df_nonans_selected_onehot, target)\n",
    "nocv_lr_selected = train_nocv(lr, df_nonans_selected_onehot, target)"
   ]
  },
  {
   "cell_type": "code",
   "execution_count": 16,
   "id": "6899c4c8-4f5e-451e-ba8b-b1cef080a265",
   "metadata": {},
   "outputs": [],
   "source": [
    "csv_path_selected = save_fold_predictions(cv_objs=[cv_lr_selected, cv_lasso_selected, cv_cb_selected],\n",
    "                                        labels=['MLR', 'LASSO', 'ML'],\n",
    "                                        dfs=[df_nonans_selected_onehot, df_nonans_selected_onehot, df_selected],\n",
    "                                        targets=[target, target, target],\n",
    "                                        filename=f'predictions_fit_selected_features_implicit_PTastarget',\n",
    "                                        substrate='implicit')"
   ]
  },
  {
   "cell_type": "markdown",
   "id": "aac13414-42ed-48ea-99ce-382c1aec117d",
   "metadata": {},
   "source": [
    "## Trainig metrics when predicting PT: Reproduce Figure S7"
   ]
  },
  {
   "cell_type": "code",
   "execution_count": 17,
   "id": "155d42a9-3b6e-4086-8bac-62913988ac64",
   "metadata": {},
   "outputs": [
    {
     "name": "stdout",
     "output_type": "stream",
     "text": [
      "implicit MLR\tMAErr=15.2278\tRMSErr=24.4894\t$R^2$\t=0.81\n",
      "implicit LASSO\tMAErr=15.3229\tRMSErr=25.3436\t$R^2$\t=0.80\n",
      "implicit ML\tMAErr=7.8078\tRMSErr=12.2224\t$R^2$\t=0.95\n"
     ]
    }
   ],
   "source": [
    "compute_metrics_by_method(csv_path_selected, substrate='implicit', filename='Metrics_selected_features_implicit_PTastarget.txt')"
   ]
  },
  {
   "cell_type": "markdown",
   "id": "f0d0e6d3-66c1-4987-8275-d4576e5f7e5f",
   "metadata": {},
   "source": [
    "**Conclusion**: Machine Learning model (ML), MLR and LASSO have larger performance when PT is used as target value. \n",
    "\n",
    "Metrics above corresponds to Figure S7 and is moreover discussed in the Manuscript in lines 421-430. Small differences in RMSErr between Supplementary Information and this code is due to stochastic effects (different train/val/test splits etc). "
   ]
  },
  {
   "cell_type": "code",
   "execution_count": 18,
   "id": "8d398e19-2b45-462e-a86b-68b9ea4d8e23",
   "metadata": {},
   "outputs": [],
   "source": [
    "csv_path_selected_es = save_nofolds_predictions(estimators=[nocv_lr_selected, nocv_lasso_selected, nocv_cb_selected],\n",
    "                                        labels=['MLR', 'LASSO', 'ML'],\n",
    "                                        dfs=[df_es_nonans_onehot_selected, df_es_nonans_onehot_selected, df_es_selected],\n",
    "                                        targets=[target_es, target_es, target_es],\n",
    "                                        filename=f'predictions_fit_selected_features_explicit_PTastarget',\n",
    "                                        substrate='explicit')        "
   ]
  },
  {
   "cell_type": "code",
   "execution_count": 19,
   "id": "396a3066-36b2-4836-a556-3f4e9a5ad9e4",
   "metadata": {},
   "outputs": [
    {
     "name": "stdout",
     "output_type": "stream",
     "text": [
      "explicit MLR\tMAErr=1115.8158\tRMSErr=1123.5927\t$R^2$\t=-420.87\n",
      "explicit LASSO\tMAErr=1077.1710\tRMSErr=1085.0627\t$R^2$\t=-392.43\n",
      "explicit ML\tMAErr=28.9476\tRMSErr=32.0898\t$R^2$\t=0.66\n"
     ]
    }
   ],
   "source": [
    "compute_metrics_by_method(csv_path_selected_es, substrate='explicit', filename='Metrics_selected_features_explicit_PTastarget.txt')"
   ]
  },
  {
   "cell_type": "markdown",
   "id": "57157254-6fb5-4484-8cfa-ecf4faaa6869",
   "metadata": {},
   "source": [
    "Table above shows the prediction for explicit substrates. When compared with Table 1 one can see that R2 coefficient for ML is larger then when MAE is used as target."
   ]
  }
 ],
 "metadata": {
  "kernelspec": {
   "display_name": "Python 3 (ipykernel)",
   "language": "python",
   "name": "python3"
  },
  "language_info": {
   "codemirror_mode": {
    "name": "ipython",
    "version": 3
   },
   "file_extension": ".py",
   "mimetype": "text/x-python",
   "name": "python",
   "nbconvert_exporter": "python",
   "pygments_lexer": "ipython3",
   "version": "3.10.12"
  }
 },
 "nbformat": 4,
 "nbformat_minor": 5
}
