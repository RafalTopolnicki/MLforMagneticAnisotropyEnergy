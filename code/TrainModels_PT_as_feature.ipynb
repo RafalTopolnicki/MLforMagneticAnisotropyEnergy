{
 "cells": [
  {
   "cell_type": "code",
   "execution_count": 1,
   "id": "0dbf538e-a060-4407-990d-0e2438796798",
   "metadata": {},
   "outputs": [],
   "source": [
    "import pandas as pd\n",
    "from catboost import CatBoostRegressor\n",
    "from catboost import EShapCalcType, EFeaturesSelectionAlgorithm\n",
    "\n",
    "import matplotlib.pyplot as plt\n",
    "import numpy as np\n",
    "\n",
    "from sklearn.model_selection import cross_validate\n",
    "from sklearn.metrics import mean_squared_error, mean_absolute_error, r2_score\n",
    "from sklearn.linear_model import LinearRegression, Lasso\n",
    "\n",
    "from src.utils import prediction_on_folds, train_nocv, compute_metrics_by_method\n",
    "from src.outputs import save_fold_predictions, save_nofolds_predictions\n",
    "from src.manipulations import categorical_features\n",
    "from src.labels_paper import labels\n",
    "\n",
    "import os\n",
    "from src.consts import DATADIRECTORY"
   ]
  },
  {
   "cell_type": "markdown",
   "id": "f16fae72-13ac-402f-8e82-88f41874fdc9",
   "metadata": {},
   "source": [
    "# Read data"
   ]
  },
  {
   "cell_type": "markdown",
   "id": "3e29b56a-fc3a-4e8f-b665-9c1c86d294a9",
   "metadata": {},
   "source": [
    "### Read data for implicit substrates"
   ]
  },
  {
   "cell_type": "code",
   "execution_count": 2,
   "id": "622e87f6-22d9-4d7d-bc93-8783c186dd6b",
   "metadata": {},
   "outputs": [],
   "source": [
    "df = pd.read_csv(os.path.join(DATADIRECTORY,'implicit_dataset.csv'))\n",
    "pt = pd.read_csv(os.path.join(DATADIRECTORY,'implicit_PT.csv'))\n",
    "target = pd.read_csv(os.path.join(DATADIRECTORY,'implicit_target_mae.csv'))\n",
    "target_soc = pd.read_csv(os.path.join(DATADIRECTORY,'implicit_target_soc.csv'))\n",
    "target_socm = pd.read_csv(os.path.join(DATADIRECTORY,'implicit_target_socm.csv'))\n",
    "\n",
    "# add PT as one of possible features\n",
    "df = pd.concat([df, pt], axis=1)"
   ]
  },
  {
   "cell_type": "code",
   "execution_count": 3,
   "id": "983e28cb-ed0e-4e68-bc66-64371dfd8511",
   "metadata": {},
   "outputs": [
    {
     "name": "stdout",
     "output_type": "stream",
     "text": [
      "Total number of features: 154\n",
      "Total number of systems: 806\n"
     ]
    }
   ],
   "source": [
    "print(f'Total number of features: {len(df.columns)}')\n",
    "print(f'Total number of systems: {len(df)}')"
   ]
  },
  {
   "cell_type": "markdown",
   "id": "ae03a1c5-8a24-460b-bc32-f6569770c2e3",
   "metadata": {},
   "source": [
    "### Read data for explicit substrates"
   ]
  },
  {
   "cell_type": "code",
   "execution_count": 4,
   "id": "7f5d666a-ff73-471e-82c0-31ed096ffb01",
   "metadata": {},
   "outputs": [],
   "source": [
    "df_es = pd.read_csv(os.path.join(DATADIRECTORY,'explicit_dataset.csv'))\n",
    "pt_es = pd.read_csv(os.path.join(DATADIRECTORY,'explicit_PT.csv'))\n",
    "target_es = pd.read_csv(os.path.join(DATADIRECTORY,'explicit_target_mae.csv'))\n",
    "target_soc_es = pd.read_csv(os.path.join(DATADIRECTORY,'explicit_target_soc.csv'))\n",
    "target_socm_es = pd.read_csv(os.path.join(DATADIRECTORY,'explicit_target_socm.csv'))\n",
    "\n",
    "# add PT as one of possible features\n",
    "df_es = pd.concat([df_es, pt_es], axis=1)"
   ]
  },
  {
   "cell_type": "code",
   "execution_count": 5,
   "id": "dc7d1a6a-d0e5-44af-bac7-0a2c25dc6056",
   "metadata": {},
   "outputs": [
    {
     "name": "stdout",
     "output_type": "stream",
     "text": [
      "Total number of features: 154\n",
      "Total number of systems: 15\n"
     ]
    }
   ],
   "source": [
    "print(f'Total number of features: {len(df_es.columns)}')\n",
    "print(f'Total number of systems: {len(df_es)}')"
   ]
  },
  {
   "cell_type": "code",
   "execution_count": 6,
   "id": "5d50a7ae-d2f9-4dd5-85d1-901784a26077",
   "metadata": {},
   "outputs": [],
   "source": [
    "# prepare data for LinearRegression and Lasso\n",
    "# remove possible NaNs and perform one-hot encodings\n",
    "df_nonans = df.dropna(axis=1)\n",
    "df_es_nonans = df_es.dropna(axis=1)\n",
    "no_nans_common_columns = list(set(df_nonans.columns).intersection(df_es_nonans.columns))\n",
    "df_nonans = df_nonans[no_nans_common_columns]\n",
    "df_es_nonans = df_es_nonans[no_nans_common_columns]\n",
    "\n",
    "cat_features = categorical_features(df)\n",
    "cat_features_nonans = categorical_features(df_nonans)\n",
    "df_nonans_onehot = pd.get_dummies(df_nonans, columns=cat_features_nonans)\n",
    "df_es_nonans_onehot = pd.get_dummies(df_es_nonans, columns=cat_features_nonans)"
   ]
  },
  {
   "cell_type": "markdown",
   "id": "3bb676ca-46ac-42a5-9a91-c4552e3b63ad",
   "metadata": {},
   "source": [
    "# Training: Cross Validation using all features"
   ]
  },
  {
   "cell_type": "code",
   "execution_count": 7,
   "id": "52b48f06-4206-4084-be0e-e4c7fc83c4b5",
   "metadata": {},
   "outputs": [],
   "source": [
    "scoring = {\n",
    "    'mean_squared_error': 'neg_mean_squared_error',\n",
    "    'mean_absolute_error': 'neg_mean_absolute_error',\n",
    "    'r2': 'r2',\n",
    "}\n",
    "\n",
    "cb_hyperparams = {\n",
    "    'max_depth': 5, \n",
    "    'n_estimators': 2000,\n",
    "    'eta':0.05\n",
    "}\n",
    "\n",
    "cb = CatBoostRegressor(verbose=False, cat_features=cat_features, \n",
    "                       **cb_hyperparams)\n",
    "cv_cb = cross_validate(cb, df, target, cv=5, scoring=scoring, \n",
    "                           return_train_score=True, \n",
    "                           return_estimator=True,\n",
    "                           return_indices=True)\n",
    "\n",
    "lasso = Lasso(alpha=0.2)\n",
    "cv_lasso = cross_validate(lasso, df_nonans_onehot, target, cv=5, scoring=scoring,                            \n",
    "                              return_train_score=True, \n",
    "                              return_estimator=True,\n",
    "                              return_indices=True)\n",
    "lr = LinearRegression(fit_intercept=True)\n",
    "cv_lr = cross_validate(lr, df_nonans_onehot, target, cv=5, scoring=scoring,                            \n",
    "                              return_train_score=True, \n",
    "                              return_estimator=True,\n",
    "                              return_indices=True)"
   ]
  },
  {
   "cell_type": "code",
   "execution_count": 8,
   "id": "fa27f757-e4dd-4e4c-9adf-c12709c0edf5",
   "metadata": {},
   "outputs": [],
   "source": [
    "# Train on all data without CV for better prediction for Explicit Substrates\n",
    "nocv_cb = train_nocv(cb, df, target)\n",
    "nocv_lasso = train_nocv(lasso, df_nonans_onehot, target)\n",
    "nocv_lr = train_nocv(lr, df_nonans_onehot, target)"
   ]
  },
  {
   "cell_type": "code",
   "execution_count": 9,
   "id": "22392e4b-d7e9-4c71-b4c1-2d97852ab145",
   "metadata": {},
   "outputs": [],
   "source": [
    "# Make predictions on whole dataset\n",
    "csv_path_all_features = save_fold_predictions(cv_objs=[cv_lr, cv_lasso, cv_cb],\n",
    "                                            labels=['MLR', 'LASSO', 'ML'],\n",
    "                                            dfs=[df_nonans_onehot, df_nonans_onehot, df],\n",
    "                                            targets=[target, target, target],\n",
    "                                            filename=f'predictions_fit_all_features_implicit_withPT',\n",
    "                                            substrate='implicit')"
   ]
  },
  {
   "cell_type": "code",
   "execution_count": 10,
   "id": "5dce12ed-478e-4bfd-85ff-226d9e05b25b",
   "metadata": {},
   "outputs": [
    {
     "name": "stdout",
     "output_type": "stream",
     "text": [
      "implicit MLR\tMAErr=17.5289\tRMSErr=66.3423\t$R^2$\t=-3.90\n",
      "implicit LASSO\tMAErr=15.9160\tRMSErr=21.6265\t$R^2$\t=0.48\n",
      "implicit ML\tMAErr=8.6149\tRMSErr=12.9044\t$R^2$\t=0.81\n"
     ]
    }
   ],
   "source": [
    "# Metrics for implicit substrates\n",
    "# Model use all features\n",
    "# This metrics are given in Table 1 in the manuscript (Columns named All features)\n",
    "compute_metrics_by_method(csv_path_all_features, substrate='implicit', filename='Metrics_all_features_implicit_withPT.txt')"
   ]
  },
  {
   "cell_type": "code",
   "execution_count": 11,
   "id": "97055ac5-c533-4dce-ab0b-0d42dda2ff2c",
   "metadata": {},
   "outputs": [],
   "source": [
    "# Metrics for explicit substrates\n",
    "# Models uses all features\n",
    "csv_path_all_features_es = save_nofolds_predictions(estimators=[nocv_lr, nocv_lasso, nocv_cb],\n",
    "                                        labels=['MLR', 'LASSO', 'ML'],\n",
    "                                        dfs=[df_es_nonans_onehot, df_es_nonans_onehot, df_es],\n",
    "                                        targets=[target_es, target_es, target_es],\n",
    "                                        filename=f'predictions_fit_all_features_explicit_withPT',\n",
    "                                        substrate='explicit')"
   ]
  },
  {
   "cell_type": "code",
   "execution_count": 12,
   "id": "b93ba663-e01d-4561-a601-2ee9020350dd",
   "metadata": {},
   "outputs": [
    {
     "name": "stdout",
     "output_type": "stream",
     "text": [
      "explicit MLR\tMAErr=147.5094\tRMSErr=153.9426\t$R^2$\t=-15.61\n",
      "explicit LASSO\tMAErr=344.1884\tRMSErr=346.3527\t$R^2$\t=-83.09\n",
      "explicit ML\tMAErr=27.1207\tRMSErr=33.4899\t$R^2$\t=0.21\n"
     ]
    }
   ],
   "source": [
    "compute_metrics_by_method(csv_path_all_features_es, substrate='explicit', filename='Metrics_all_features_explicit_withPT.txt')"
   ]
  },
  {
   "cell_type": "markdown",
   "id": "0c25908c-a791-488b-abc7-476bf9a78ce9",
   "metadata": {},
   "source": [
    "# Feature Selection"
   ]
  },
  {
   "cell_type": "code",
   "execution_count": 13,
   "id": "1991d4d8-41d9-42bf-a580-f239b1686735",
   "metadata": {},
   "outputs": [
    {
     "name": "stdout",
     "output_type": "stream",
     "text": [
      "****\n",
      "REQUIRED NUMBER OF FEATURES 2\n",
      "['bader_A1', 'sr_A1_dosmodeldxyDOWN_E_below']\n",
      "MAErr=17.56286953293038 MSErr=603.1298569306148 RMSErr=24.55870226479027 R2=0.32898091585260014\n",
      "****\n",
      "****\n",
      "REQUIRED NUMBER OF FEATURES 3\n",
      "['sr_A1_dosmodeldz2-r2DOWN_integral_below_1.0', 'bader_A1', 'sr_A1_dosmodeldxyDOWN_E_below']\n",
      "MAErr=14.02858248982827 MSErr=385.177863625347 RMSErr=19.62594873185363 R2=0.5714659217849559\n",
      "****\n",
      "****\n",
      "REQUIRED NUMBER OF FEATURES 5\n",
      "['sr_A2_dz2-r2DOWN', 'sr_A1_dosmodeldxzUP_integral_above_1.0', 'sr_A1_dosmodeldz2-r2DOWN_integral_below_1.0', 'bader_A1', 'sr_A1_dosmodeldxyDOWN_E_below']\n",
      "MAErr=10.545479596639879 MSErr=237.34802175487854 RMSErr=15.406103392969897 R2=0.7359357187311688\n",
      "****\n",
      "****\n",
      "REQUIRED NUMBER OF FEATURES 6\n",
      "['sr_A1_dxzUP', 'sr_A1_dosmodeldz2-r2DOWN_integral_below_1.0', 'sr_A2_dosmodeldz2-r2DOWN_integral_below_1.0', 'bader_A1', 'sr_A1_dosmodeldxyDOWN_E_below', 'sr_A1_dosmodeldz2-r2DOWN_E_above']\n",
      "MAErr=9.799221007321997 MSErr=201.78463104012653 RMSErr=14.20509172938093 R2=0.7755021795726762\n",
      "****\n",
      "****\n",
      "REQUIRED NUMBER OF FEATURES 7\n",
      "['sr_A2_dz2-r2DOWN', 'sr_A1_dosmodeldxzUP_integral_above_1.0', 'bader_A1', 'bader_A2', 'sr_A1_dosmodeldz2-r2UP_peak_above', 'sr_A1_dosmodeldxyDOWN_E_below', 'sr_A1_dosmodeldyzDOWN_E_above']\n",
      "MAErr=10.07473087790946 MSErr=214.45184683481466 RMSErr=14.64417450165132 R2=0.7614091224249068\n",
      "****\n",
      "****\n",
      "REQUIRED NUMBER OF FEATURES 8\n",
      "['h_substrate', 'sr_A2_dz2-r2DOWN', 'sr_A1_dxzUP', 'sr_A1_dosmodeldz2-r2DOWN_integral_below_1.0', 'bader_A1', 'sr_A1_dosmodeldxyDOWN_E_below', 'sr_A1_dosmodeldz2-r2DOWN_E_above', 'sr_A2_dosmodeldx2-y2UP_E_below']\n",
      "MAErr=9.24037012973799 MSErr=181.21128439985725 RMSErr=13.461474079752827 R2=0.7983912938517403\n",
      "****\n",
      "****\n",
      "REQUIRED NUMBER OF FEATURES 9\n",
      "['h_substrate', 'sr_A1_dosmodeldxzUP_integral_above_1.0', 'sr_A1_dosmodeldz2-r2DOWN_integral_below_1.0', 'sr_A2_dosmodeldz2-r2DOWN_integral_below_1.0', 'bader_A1', 'bader_A2', 'sr_A1_dosmodeldz2-r2UP_peak_above', 'sr_A1_dosmodeldxyDOWN_E_below', 'sr_A1_dosmodeldyzDOWN_E_above']\n",
      "MAErr=9.385527662328345 MSErr=189.89639926953316 RMSErr=13.780290246200664 R2=0.7887285690527667\n",
      "****\n",
      "****\n",
      "REQUIRED NUMBER OF FEATURES 10\n",
      "['dimer_len', 'h_substrate', 'sr_A2_dz2-r2DOWN', 'sr_A1_dxzUP', 'sr_A1_dosmodeldz2-r2DOWN_integral_below_1.0', 'bader_A1', 'sr_A1_dosmodeldz2-r2UP_peak_above', 'sr_A1_dosmodeldxyDOWN_E_below', 'sr_A1_dosmodeldxzDOWN_E_above', 'sr_A2_dosmodeldx2-y2UP_E_below']\n",
      "MAErr=8.806446607723425 MSErr=173.66194052356047 RMSErr=13.178085616794288 R2=0.8067904035220301\n",
      "****\n",
      "****\n",
      "REQUIRED NUMBER OF FEATURES 12\n",
      "['h_substrate', 'sr_A1_dz2-r2DOWN', 'sr_A1_dosmodeldxzUP_integral_above_1.0', 'sr_A1_dosmodeldz2-r2DOWN_integral_below_1.0', 'sr_A2_dosmodeldz2-r2DOWN_integral_below_1.0', 'bader_A1', 'bader_A2', 'sr_A1_dosmodeldz2-r2UP_peak_above', 'sr_A1_dosmodeldxyDOWN_E_below', 'sr_A1_dosmodeldyzDOWN_E_above', 'sr_A1_dosmodeldxzDOWN_E_above', 'PT']\n",
      "MAErr=9.31357575819614 MSErr=188.13526837722603 RMSErr=13.716241044004223 R2=0.7906879355554195\n",
      "****\n",
      "****\n",
      "REQUIRED NUMBER OF FEATURES 15\n",
      "['dimer_len', 'h_substrate', 'sr_A1_dz2-r2DOWN', 'sr_A2_dz2-r2DOWN', 'sr_A2_dxzUP', 'sr_A1_dosmodeldxzUP_integral_above_1.0', 'sr_A1_dosmodeldz2-r2DOWN_integral_below_1.0', 'sr_A2_dosmodeldz2-r2DOWN_integral_below_1.0', 'bader_A1', 'bader_A2', 'sr_A1_dosmodeldyzUP_E_below', 'sr_A1_dosmodeldz2-r2UP_peak_above', 'sr_A1_dosmodeldxyDOWN_E_below', 'sr_A1_dosmodeldxzDOWN_E_above', 'sr_A2_dosmodeldx2-y2UP_E_below']\n",
      "MAErr=8.768257158509515 MSErr=167.62454883378157 RMSErr=12.94698995264079 R2=0.8135073733350179\n",
      "****\n",
      "****\n",
      "REQUIRED NUMBER OF FEATURES 17\n",
      "['dimer_len', 'h_substrate', 'sr_A1_dz2-r2DOWN', 'sr_A2_dz2-r2DOWN', 'sr_A1_dxzUP', 'sr_A1_dosmodeldxzUP_integral_above_1.0', 'sr_A1_dosmodeldz2-r2DOWN_integral_below_1.0', 'sr_A2_dosmodeldz2-r2DOWN_integral_below_1.0', 'bader_A1', 'bader_A2', 'sr_A1_dosmodeldyzUP_E_below', 'sr_A1_dosmodeldz2-r2UP_peak_above', 'sr_A1_dosmodeldxyDOWN_E_below', 'sr_A1_dosmodeldz2-r2DOWN_E_above', 'sr_A1_dosmodeldxzDOWN_E_above', 'sr_A2_dosmodeldx2-y2UP_E_below', 'PT']\n",
      "MAErr=8.694655143998743 MSErr=163.86801758267356 RMSErr=12.801094390038438 R2=0.8176867455394013\n",
      "****\n",
      "****\n",
      "REQUIRED NUMBER OF FEATURES 20\n",
      "['dimer_len', 'h_substrate', 'sr_A2_dz2-r2UP', 'sr_A1_dz2-r2DOWN', 'sr_A2_dz2-r2DOWN', 'sr_A1_dxzUP', 'sr_A2_dxzUP', 'sr_A1_dosmodeldxzUP_integral_above_1.0', 'sr_A1_dosmodeldz2-r2DOWN_integral_below_1.0', 'bader_A1', 'bader_A2', 'sr_A1_dosmodeldz2-r2UP_peak_above', 'sr_A1_dosmodeldxyDOWN_E_below', 'sr_A1_dosmodeldx2-y2DOWN_E_below', 'sr_A1_dosmodeldyzDOWN_E_above', 'sr_A1_dosmodeldz2-r2DOWN_E_above', 'sr_A1_dosmodeldxzDOWN_E_above', 'sr_A2_dosmodeldx2-y2UP_E_below', 'sr_A2_dosmodeldz2-r2DOWN_E_below', 'PT']\n",
      "MAErr=8.675940187999567 MSErr=163.48296056721924 RMSErr=12.786045540636058 R2=0.8181151451665888\n",
      "****\n",
      "****\n",
      "REQUIRED NUMBER OF FEATURES 25\n",
      "['BG_dir_up', 'dimer_len', 'h_substrate', 'sr_A1_dyzUP', 'sr_A1_dz2-r2DOWN', 'sr_A2_dz2-r2DOWN', 'sr_A1_dxzUP', 'sr_A1_dosmodeldxzUP_integral_below_1.0', 'sr_A1_dosmodeldxzUP_integral_above_1.0', 'sr_A1_dosmodeldz2-r2DOWN_integral_below_1.0', 'sr_A1_dosmodeldxzDOWN_integral_above_1.0', 'sr_A2_dosmodeldxzDOWN_integral_below_1.0', 'bader_A1', 'bader_A2', 'sr_A1_dosmodeldz2-r2UP_peak_above', 'sr_A1_dosmodeldxzUP_peak_above', 'sr_A1_dosmodeldxyDOWN_E_below', 'sr_A1_dosmodeldx2-y2DOWN_E_below', 'sr_A1_dosmodeldx2-y2DOWN_peak_below', 'sr_A1_dosmodeldyzDOWN_E_above', 'sr_A1_dosmodeldz2-r2DOWN_E_above', 'sr_A1_dosmodeldxzDOWN_E_above', 'sr_A2_dosmodeldx2-y2UP_E_below', 'sr_A2_dosmodeldz2-r2DOWN_E_below', 'PT']\n",
      "MAErr=8.3732573437967 MSErr=157.19827832089572 RMSErr=12.537873755980147 R2=0.8251072409426906\n",
      "****\n",
      "****\n",
      "REQUIRED NUMBER OF FEATURES 30\n",
      "['dimer_len', 'h_substrate', 'sr_A1_dyzUP', 'sr_A2_dz2-r2UP', 'sr_A1_dz2-r2DOWN', 'sr_A2_dz2-r2DOWN', 'sr_A1_dxzUP', 'sr_A1_dosmodeldxzUP_integral_below_1.0', 'sr_A1_dosmodeldxzUP_integral_above_1.0', 'sr_A1_dosmodeldz2-r2DOWN_integral_below_1.0', 'sr_A1_dosmodeldz2-r2DOWN_integral_above_1.0', 'sr_A1_dosmodeldxzDOWN_integral_above_1.0', 'sr_A2_dosmodeldxzUP_integral_above_1.0', 'sr_A2_dosmodeldz2-r2DOWN_integral_below_1.0', 'sr_A2_dosmodeldxzDOWN_integral_below_1.0', 'sr_A2_dosmodeldyzDOWN_integral_above_1.0', 'bader_A1', 'bader_A2', 'sr_A1_dosmodeldyzUP_E_below', 'sr_A1_dosmodeldx2-y2UP_peak_below', 'sr_A1_dosmodeldz2-r2UP_peak_above', 'sr_A1_dosmodeldxyDOWN_E_below', 'sr_A1_dosmodeldx2-y2DOWN_E_below', 'sr_A1_dosmodeldyzDOWN_E_above', 'sr_A1_dosmodeldz2-r2DOWN_E_above', 'sr_A1_dosmodeldxzDOWN_E_above', 'sr_A2_dosmodeldx2-y2UP_E_below', 'sr_A2_dosmodeldz2-r2UP_E_above', 'sr_A2_dosmodeldz2-r2DOWN_E_below', 'PT']\n",
      "MAErr=8.156018600123653 MSErr=154.12914121299582 RMSErr=12.414875803365728 R2=0.8285218448585812\n",
      "****\n",
      "****\n",
      "REQUIRED NUMBER OF FEATURES 35\n",
      "['BG_dir_up', 'dimer_len', 'h_substrate', 'sr_A2_dxyDOWN', 'sr_A1_dyzUP', 'sr_A2_dz2-r2UP', 'sr_A1_dz2-r2DOWN', 'sr_A2_dz2-r2DOWN', 'sr_A1_dxzUP', 'sr_A1_dosmodeldxzUP_integral_above_1.0', 'sr_A1_dosmodeldz2-r2DOWN_integral_below_1.0', 'sr_A1_dosmodeldz2-r2DOWN_integral_above_1.0', 'sr_A1_dosmodeldxzDOWN_integral_above_1.0', 'sr_A2_dosmodeldxzUP_integral_above_1.0', 'sr_A2_dosmodeldz2-r2DOWN_integral_below_1.0', 'sr_A2_dosmodeldxzDOWN_integral_below_1.0', 'sr_A2_dosmodeldyzDOWN_integral_above_1.0', 'bader_A1', 'bader_A2', 'sr_A1_dosmodeldxyUP_E_below', 'sr_A1_dosmodeldyzUP_E_below', 'sr_A1_dosmodeldx2-y2UP_peak_below', 'sr_A1_dosmodeldz2-r2UP_peak_above', 'sr_A1_dosmodeldxzUP_peak_above', 'sr_A1_dosmodeldxyDOWN_E_below', 'sr_A1_dosmodeldyzDOWN_E_above', 'sr_A1_dosmodeldz2-r2DOWN_E_above', 'sr_A1_dosmodeldxzDOWN_E_above', 'sr_A2_dosmodeldz2-r2UP_peak_below', 'sr_A2_dosmodeldx2-y2UP_E_below', 'sr_A2_dosmodeldz2-r2UP_peak_above', 'sr_A2_dosmodeldxyDOWN_peak_below', 'sr_A2_dosmodeldz2-r2DOWN_E_below', 'sr_A2_dosmodeldxzDOWN_E_above', 'PT']\n",
      "MAErr=8.38604605955863 MSErr=148.83590037551298 RMSErr=12.199831981446014 R2=0.8344109010512477\n",
      "****\n",
      "****\n",
      "REQUIRED NUMBER OF FEATURES 40\n",
      "['BG_dir_up', 'dimer_len', 'h_substrate', 'sr_A2_dxyDOWN', 'sr_A2_dz2-r2UP', 'sr_A1_dz2-r2DOWN', 'sr_A2_dz2-r2DOWN', 'sr_A1_dxzUP', 'sr_A2_dxzUP', 'sr_A1_dosmodeldz2-r2UP_integral_below_1.0', 'sr_A1_dosmodeldxzUP_integral_below_1.0', 'sr_A1_dosmodeldxzUP_integral_above_1.0', 'sr_A1_dosmodeldz2-r2DOWN_integral_below_1.0', 'sr_A1_dosmodeldz2-r2DOWN_integral_above_1.0', 'sr_A1_dosmodeldxzDOWN_integral_above_1.0', 'sr_A1_dosmodeldx2-y2DOWN_integral_above_1.0', 'sr_A2_dosmodeldxzUP_integral_above_1.0', 'sr_A2_dosmodeldz2-r2DOWN_integral_below_1.0', 'sr_A2_dosmodeldxzDOWN_integral_below_1.0', 'sr_A2_dosmodeldyzDOWN_integral_above_1.0', 'sr_A2_dosmodeldz2-r2DOWN_integral_above_1.0', 'pot_A1', 'bader_A1', 'bader_A2', 'sr_A1_dosmodeldxyUP_E_below', 'sr_A1_dosmodeldyzUP_E_below', 'sr_A1_dosmodeldx2-y2UP_E_below', 'sr_A1_dosmodeldx2-y2UP_peak_below', 'sr_A1_dosmodeldz2-r2UP_peak_above', 'sr_A1_dosmodeldxzUP_peak_above', 'sr_A1_dosmodeldxyDOWN_E_below', 'sr_A1_dosmodeldx2-y2DOWN_E_below', 'sr_A1_dosmodeldyzDOWN_E_above', 'sr_A1_dosmodeldz2-r2DOWN_E_above', 'sr_A1_dosmodeldxzDOWN_E_above', 'sr_A2_dosmodeldx2-y2UP_E_below', 'sr_A2_dosmodeldz2-r2UP_peak_above', 'sr_A2_dosmodeldxzDOWN_E_above', 'sr_A2_dosmodeldx2-y2DOWN_E_above', 'PT']\n",
      "MAErr=8.17694708120066 MSErr=146.47471816742615 RMSErr=12.102674008971164 R2=0.8370378615715555\n",
      "****\n",
      "****\n",
      "REQUIRED NUMBER OF FEATURES 45\n",
      "['BG_dir_up', 'dimer_len', 'h_substrate', 'sr_A2_dxyDOWN', 'sr_A2_dyzDOWN', 'sr_A2_dz2-r2UP', 'sr_A1_dz2-r2DOWN', 'sr_A2_dz2-r2DOWN', 'sr_A1_dxzUP', 'sr_A2_dxzUP', 'sr_A1_dxzDOWN', 'sr_A1_dosmodeldz2-r2UP_integral_below_1.0', 'sr_A1_dosmodeldxzUP_integral_below_1.0', 'sr_A1_dosmodeldyzUP_integral_above_1.0', 'sr_A1_dosmodeldxzUP_integral_above_1.0', 'sr_A1_dosmodeldz2-r2DOWN_integral_below_1.0', 'sr_A1_dosmodeldxzDOWN_integral_above_1.0', 'sr_A1_dosmodeldx2-y2DOWN_integral_above_1.0', 'sr_A2_dosmodeldz2-r2UP_integral_below_1.0', 'sr_A2_dosmodeldxzDOWN_integral_below_1.0', 'sr_A2_dosmodeldyzDOWN_integral_above_1.0', 'bader_A1', 'bader_A2', 'sr_A1_dosmodeldxyUP_E_below', 'sr_A1_dosmodeldyzUP_E_below', 'sr_A1_dosmodeldyzUP_peak_below', 'sr_A1_dosmodeldx2-y2UP_E_below', 'sr_A1_dosmodeldyzUP_peak_above', 'sr_A1_dosmodeldz2-r2UP_peak_above', 'sr_A1_dosmodeldxzUP_peak_above', 'sr_A1_dosmodeldxyDOWN_E_below', 'sr_A1_dosmodeldxyDOWN_peak_below', 'sr_A1_dosmodeldx2-y2DOWN_E_below', 'sr_A1_dosmodeldx2-y2DOWN_peak_below', 'sr_A1_dosmodeldyzDOWN_E_above', 'sr_A1_dosmodeldz2-r2DOWN_E_above', 'sr_A1_dosmodeldz2-r2DOWN_peak_above', 'sr_A1_dosmodeldxzDOWN_E_above', 'sr_A2_dosmodeldz2-r2UP_peak_below', 'sr_A2_dosmodeldx2-y2UP_E_below', 'sr_A2_dosmodeldz2-r2UP_E_above', 'sr_A2_dosmodeldz2-r2UP_peak_above', 'sr_A2_dosmodeldz2-r2DOWN_E_below', 'sr_A2_dosmodeldx2-y2DOWN_E_above', 'PT']\n",
      "MAErr=8.124103257633067 MSErr=147.26417150405584 RMSErr=12.135245012114746 R2=0.8361595461493705\n",
      "****\n",
      "****\n",
      "REQUIRED NUMBER OF FEATURES 50\n",
      "['BG_ind_up', 'BG_dir_up', 'dimer_len', 'h_substrate', 'sr_A2_dxyDOWN', 'sr_A1_dyzUP', 'sr_A2_dz2-r2UP', 'sr_A1_dz2-r2DOWN', 'sr_A2_dz2-r2DOWN', 'sr_A1_dxzUP', 'sr_A2_dxzUP', 'sr_A1_dxzDOWN', 'sr_A2_dx2-y2DOWN', 'sr_A1_dosmodeldxzUP_integral_below_1.0', 'sr_A1_dosmodeldxzUP_integral_above_1.0', 'sr_A1_dosmodeldz2-r2DOWN_integral_below_1.0', 'sr_A1_dosmodeldxzDOWN_integral_below_1.0', 'sr_A1_dosmodeldz2-r2DOWN_integral_above_1.0', 'sr_A1_dosmodeldxzDOWN_integral_above_1.0', 'sr_A1_dosmodeldx2-y2DOWN_integral_above_1.0', 'sr_A2_dosmodeldz2-r2UP_integral_below_1.0', 'sr_A2_dosmodeldxzUP_integral_above_1.0', 'sr_A2_dosmodeldxzDOWN_integral_below_1.0', 'bader_A1', 'bader_A2', 'sr_A1_dosmodeldxyUP_E_below', 'sr_A1_dosmodeldyzUP_E_below', 'sr_A1_dosmodeldyzUP_peak_below', 'sr_A1_dosmodeldz2-r2UP_E_below', 'sr_A1_dosmodeldx2-y2UP_E_below', 'sr_A1_dosmodeldx2-y2UP_peak_below', 'sr_A1_dosmodeldz2-r2UP_peak_above', 'sr_A1_dosmodeldxzUP_peak_above', 'sr_A1_dosmodeldxyDOWN_E_below', 'sr_A1_dosmodeldx2-y2DOWN_E_below', 'sr_A1_dosmodeldx2-y2DOWN_peak_below', 'sr_A1_dosmodeldyzDOWN_E_above', 'sr_A1_dosmodeldyzDOWN_peak_above', 'sr_A1_dosmodeldz2-r2DOWN_E_above', 'sr_A1_dosmodeldxzDOWN_E_above', 'sr_A2_dosmodeldxyUP_E_below', 'sr_A2_dosmodeldz2-r2UP_peak_below', 'sr_A2_dosmodeldx2-y2UP_E_below', 'sr_A2_dosmodeldz2-r2UP_E_above', 'sr_A2_dosmodeldz2-r2UP_peak_above', 'sr_A2_dosmodeldyzDOWN_E_below', 'sr_A2_dosmodeldz2-r2DOWN_E_below', 'sr_A2_dosmodeldyzDOWN_peak_above', 'sr_A2_dosmodeldx2-y2DOWN_E_above', 'PT']\n",
      "MAErr=8.252033853611112 MSErr=149.16173669703628 RMSErr=12.213178812128982 R2=0.8340483880906671\n",
      "****\n",
      "****\n",
      "REQUIRED NUMBER OF FEATURES 55\n",
      "['BG_dir_up', 'dimer_len', 'h_substrate', 'sr_A1_dxyDOWN', 'sr_A2_dxyDOWN', 'sr_A1_dyzUP', 'sr_A2_dz2-r2UP', 'sr_A1_dz2-r2DOWN', 'sr_A2_dz2-r2DOWN', 'sr_A1_dxzUP', 'sr_A2_dxzUP', 'sr_A1_dxzDOWN', 'sr_A1_dosmodeldyzUP_integral_below_1.0', 'sr_A1_dosmodeldz2-r2UP_integral_below_1.0', 'sr_A1_dosmodeldxzUP_integral_below_1.0', 'sr_A1_dosmodeldyzUP_integral_above_1.0', 'sr_A1_dosmodeldxzUP_integral_above_1.0', 'sr_A1_dosmodeldxyDOWN_integral_below_1.0', 'sr_A1_dosmodeldz2-r2DOWN_integral_below_1.0', 'sr_A1_dosmodeldxzDOWN_integral_below_1.0', 'sr_A1_dosmodeldz2-r2DOWN_integral_above_1.0', 'sr_A1_dosmodeldxzDOWN_integral_above_1.0', 'sr_A1_dosmodeldx2-y2DOWN_integral_above_1.0', 'sr_A2_dosmodeldxzUP_integral_above_1.0', 'sr_A2_dosmodeldz2-r2DOWN_integral_below_1.0', 'sr_A2_dosmodeldxzDOWN_integral_below_1.0', 'sr_A2_dosmodeldyzDOWN_integral_above_1.0', 'pot_A1', 'bader_A1', 'bader_A2', 'sr_A1_dosmodeldxyUP_E_below', 'sr_A1_dosmodeldyzUP_E_below', 'sr_A1_dosmodeldyzUP_peak_below', 'sr_A1_dosmodeldz2-r2UP_E_below', 'sr_A1_dosmodeldx2-y2UP_E_below', 'sr_A1_dosmodeldx2-y2UP_peak_below', 'sr_A1_dosmodeldz2-r2UP_E_above', 'sr_A1_dosmodeldz2-r2UP_peak_above', 'sr_A1_dosmodeldxzUP_peak_above', 'sr_A1_dosmodeldxyDOWN_E_below', 'sr_A1_dosmodeldxyDOWN_peak_below', 'sr_A1_dosmodeldx2-y2DOWN_peak_below', 'sr_A1_dosmodeldyzDOWN_E_above', 'sr_A1_dosmodeldz2-r2DOWN_E_above', 'sr_A1_dosmodeldz2-r2DOWN_peak_above', 'sr_A1_dosmodeldxzDOWN_E_above', 'sr_A1_dosmodeldxzDOWN_peak_above', 'sr_A2_dosmodeldz2-r2UP_peak_below', 'sr_A2_dosmodeldxzUP_E_below', 'sr_A2_dosmodeldx2-y2UP_E_below', 'sr_A2_dosmodeldz2-r2UP_peak_above', 'sr_A2_dosmodeldz2-r2DOWN_E_below', 'sr_A2_dosmodeldxzDOWN_E_above', 'sr_A2_dosmodeldx2-y2DOWN_E_above', 'PT']\n",
      "MAErr=8.405496253871652 MSErr=155.7544035340799 RMSErr=12.480160396969259 R2=0.826713640503149\n",
      "****\n",
      "****\n",
      "REQUIRED NUMBER OF FEATURES 60\n",
      "['BG_ind_up', 'BG_dir_up', 'dimer_len', 'h_substrate', 'sr_A1_dxyDOWN', 'sr_A2_dxyDOWN', 'sr_A1_dyzUP', 'sr_A2_dyzDOWN', 'sr_A1_dz2-r2UP', 'sr_A2_dz2-r2UP', 'sr_A1_dz2-r2DOWN', 'sr_A2_dz2-r2DOWN', 'sr_A1_dxzUP', 'sr_A2_dxzUP', 'sr_A1_dxzDOWN', 'sr_A2_dx2-y2UP', 'sr_A1_dosmodeldz2-r2UP_integral_below_1.0', 'sr_A1_dosmodeldxzUP_integral_below_1.0', 'sr_A1_dosmodeldyzUP_integral_above_1.0', 'sr_A1_dosmodeldxzUP_integral_above_1.0', 'sr_A1_dosmodeldz2-r2DOWN_integral_below_1.0', 'sr_A1_dosmodeldxzDOWN_integral_below_1.0', 'sr_A1_dosmodeldz2-r2DOWN_integral_above_1.0', 'sr_A1_dosmodeldxzDOWN_integral_above_1.0', 'sr_A1_dosmodeldx2-y2DOWN_integral_above_1.0', 'sr_A2_dosmodeldxzUP_integral_above_1.0', 'sr_A2_dosmodeldz2-r2DOWN_integral_below_1.0', 'sr_A2_dosmodeldxzDOWN_integral_below_1.0', 'sr_A2_dosmodeldxyDOWN_integral_above_1.0', 'sr_A2_dosmodeldyzDOWN_integral_above_1.0', 'sr_A2_dosmodeldz2-r2DOWN_integral_above_1.0', 'pot_A1', 'bader_A1', 'bader_A2', 'sr_A1_dosmodeldxyUP_E_below', 'sr_A1_dosmodeldyzUP_E_below', 'sr_A1_dosmodeldyzUP_peak_below', 'sr_A1_dosmodeldx2-y2UP_E_below', 'sr_A1_dosmodeldx2-y2UP_peak_below', 'sr_A1_dosmodeldz2-r2UP_peak_above', 'sr_A1_dosmodeldxzUP_peak_above', 'sr_A1_dosmodeldxyDOWN_E_below', 'sr_A1_dosmodeldxzDOWN_peak_below', 'sr_A1_dosmodeldx2-y2DOWN_E_below', 'sr_A1_dosmodeldx2-y2DOWN_peak_below', 'sr_A1_dosmodeldyzDOWN_E_above', 'sr_A1_dosmodeldz2-r2DOWN_E_above', 'sr_A1_dosmodeldz2-r2DOWN_peak_above', 'sr_A1_dosmodeldxzDOWN_E_above', 'sr_A2_dosmodeldxyUP_E_below', 'sr_A2_dosmodeldz2-r2UP_peak_below', 'sr_A2_dosmodeldxzUP_E_below', 'sr_A2_dosmodeldx2-y2UP_E_below', 'sr_A2_dosmodeldz2-r2UP_E_above', 'sr_A2_dosmodeldz2-r2UP_peak_above', 'sr_A2_dosmodeldxyDOWN_E_below', 'sr_A2_dosmodeldz2-r2DOWN_E_below', 'sr_A2_dosmodeldxzDOWN_E_above', 'sr_A2_dosmodeldx2-y2DOWN_E_above', 'PT']\n",
      "MAErr=8.164584522432085 MSErr=148.35502234284877 RMSErr=12.180107649066521 R2=0.8349459074571768\n",
      "****\n",
      "****\n",
      "REQUIRED NUMBER OF FEATURES 65\n",
      "['BG_ind_up', 'BG_dir_up', 'dimer_len', 'h_substrate', 'sr_A1_dxyDOWN', 'sr_A2_dxyDOWN', 'sr_A1_dyzUP', 'sr_A2_dyzDOWN', 'sr_A1_dz2-r2UP', 'sr_A2_dz2-r2UP', 'sr_A1_dz2-r2DOWN', 'sr_A2_dz2-r2DOWN', 'sr_A1_dxzUP', 'sr_A2_dxzUP', 'sr_A1_dxzDOWN', 'sr_A2_dx2-y2DOWN', 'sr_A1_dosmodeldz2-r2UP_integral_below_1.0', 'sr_A1_dosmodeldxzUP_integral_below_1.0', 'sr_A1_dosmodeldxzUP_integral_above_1.0', 'sr_A1_dosmodeldz2-r2DOWN_integral_below_1.0', 'sr_A1_dosmodeldz2-r2DOWN_integral_above_1.0', 'sr_A1_dosmodeldxzDOWN_integral_above_1.0', 'sr_A1_dosmodeldx2-y2DOWN_integral_above_1.0', 'sr_A2_dosmodeldz2-r2UP_integral_below_1.0', 'sr_A2_dosmodeldyzUP_integral_above_1.0', 'sr_A2_dosmodeldxzUP_integral_above_1.0', 'sr_A2_dosmodeldxzDOWN_integral_below_1.0', 'sr_A2_dosmodeldyzDOWN_integral_above_1.0', 'sr_A2_dosmodeldz2-r2DOWN_integral_above_1.0', 'pot_A1', 'bader_A1', 'bader_A2', 'sr_A1_dosmodeldxyUP_E_below', 'sr_A1_dosmodeldyzUP_E_below', 'sr_A1_dosmodeldyzUP_peak_below', 'sr_A1_dosmodeldz2-r2UP_E_below', 'sr_A1_dosmodeldx2-y2UP_E_below', 'sr_A1_dosmodeldx2-y2UP_peak_below', 'sr_A1_dosmodeldz2-r2UP_E_above', 'sr_A1_dosmodeldz2-r2UP_peak_above', 'sr_A1_dosmodeldxzUP_peak_above', 'sr_A1_dosmodeldxyDOWN_E_below', 'sr_A1_dosmodeldxyDOWN_peak_below', 'sr_A1_dosmodeldxzDOWN_peak_below', 'sr_A1_dosmodeldx2-y2DOWN_E_below', 'sr_A1_dosmodeldx2-y2DOWN_peak_below', 'sr_A1_dosmodeldyzDOWN_E_above', 'sr_A1_dosmodeldz2-r2DOWN_E_above', 'sr_A1_dosmodeldz2-r2DOWN_peak_above', 'sr_A1_dosmodeldxzDOWN_E_above', 'sr_A1_dosmodeldxzDOWN_peak_above', 'sr_A2_dosmodeldxyUP_E_below', 'sr_A2_dosmodeldz2-r2UP_peak_below', 'sr_A2_dosmodeldx2-y2UP_E_below', 'sr_A2_dosmodeldz2-r2UP_E_above', 'sr_A2_dosmodeldz2-r2UP_peak_above', 'sr_A2_dosmodeldx2-y2UP_peak_above', 'sr_A2_dosmodeldyzDOWN_E_below', 'sr_A2_dosmodeldz2-r2DOWN_E_below', 'sr_A2_dosmodeldxyDOWN_peak_above', 'sr_A2_dosmodeldyzDOWN_peak_above', 'sr_A2_dosmodeldz2-r2DOWN_peak_above', 'sr_A2_dosmodeldxzDOWN_E_above', 'sr_A2_dosmodeldx2-y2DOWN_E_above', 'PT']\n",
      "MAErr=8.211495746416672 MSErr=146.7929162074574 RMSErr=12.115812651549932 R2=0.836683846669216\n",
      "****\n",
      "****\n",
      "REQUIRED NUMBER OF FEATURES 70\n",
      "['BG_ind_up', 'BG_ind_down', 'BG_dir_up', 'dimer_len', 'h_substrate', 'sr_A1_dxyDOWN', 'sr_A2_dyzUP', 'sr_A2_dyzDOWN', 'sr_A1_dz2-r2UP', 'sr_A2_dz2-r2UP', 'sr_A1_dz2-r2DOWN', 'sr_A2_dz2-r2DOWN', 'sr_A1_dxzUP', 'sr_A2_dxzUP', 'sr_A1_dxzDOWN', 'sr_A2_dx2-y2DOWN', 'sr_A1_dosmodeldxyUP_integral_below_1.0', 'sr_A1_dosmodeldxzUP_integral_below_1.0', 'sr_A1_dosmodeldyzUP_integral_above_1.0', 'sr_A1_dosmodeldxzUP_integral_above_1.0', 'sr_A1_dosmodeldyzDOWN_integral_below_1.0', 'sr_A1_dosmodeldz2-r2DOWN_integral_below_1.0', 'sr_A1_dosmodeldz2-r2DOWN_integral_above_1.0', 'sr_A1_dosmodeldxzDOWN_integral_above_1.0', 'sr_A1_dosmodeldx2-y2DOWN_integral_above_1.0', 'sr_A2_dosmodeldz2-r2UP_integral_below_1.0', 'sr_A2_dosmodeldxzUP_integral_above_1.0', 'sr_A2_dosmodeldz2-r2DOWN_integral_below_1.0', 'sr_A2_dosmodeldxzDOWN_integral_below_1.0', 'sr_A2_dosmodeldyzDOWN_integral_above_1.0', 'sr_A2_dosmodeldz2-r2DOWN_integral_above_1.0', 'pot_A1', 'bader_A1', 'bader_A2', 'sr_A1_dosmodeldxyUP_E_below', 'sr_A1_dosmodeldyzUP_E_below', 'sr_A1_dosmodeldyzUP_peak_below', 'sr_A1_dosmodeldz2-r2UP_E_below', 'sr_A1_dosmodeldxzUP_peak_below', 'sr_A1_dosmodeldx2-y2UP_E_below', 'sr_A1_dosmodeldx2-y2UP_peak_below', 'sr_A1_dosmodeldxyUP_peak_above', 'sr_A1_dosmodeldz2-r2UP_E_above', 'sr_A1_dosmodeldz2-r2UP_peak_above', 'sr_A1_dosmodeldxzUP_peak_above', 'sr_A1_dosmodeldxyDOWN_E_below', 'sr_A1_dosmodeldxyDOWN_peak_below', 'sr_A1_dosmodeldxzDOWN_peak_below', 'sr_A1_dosmodeldx2-y2DOWN_E_below', 'sr_A1_dosmodeldx2-y2DOWN_peak_below', 'sr_A1_dosmodeldyzDOWN_E_above', 'sr_A1_dosmodeldz2-r2DOWN_E_above', 'sr_A1_dosmodeldz2-r2DOWN_peak_above', 'sr_A1_dosmodeldxzDOWN_E_above', 'sr_A1_dosmodeldxzDOWN_peak_above', 'sr_A2_dosmodeldxyUP_E_below', 'sr_A2_dosmodeldyzUP_peak_below', 'sr_A2_dosmodeldz2-r2UP_peak_below', 'sr_A2_dosmodeldxzUP_E_below', 'sr_A2_dosmodeldx2-y2UP_E_below', 'sr_A2_dosmodeldz2-r2UP_E_above', 'sr_A2_dosmodeldz2-r2UP_peak_above', 'sr_A2_dosmodeldxyDOWN_E_below', 'sr_A2_dosmodeldxyDOWN_peak_below', 'sr_A2_dosmodeldyzDOWN_E_below', 'sr_A2_dosmodeldz2-r2DOWN_E_below', 'sr_A2_dosmodeldz2-r2DOWN_peak_above', 'sr_A2_dosmodeldxzDOWN_E_above', 'sr_A2_dosmodeldx2-y2DOWN_E_above', 'PT']\n",
      "MAErr=8.083972589126603 MSErr=146.05921102607323 RMSErr=12.085495894917727 R2=0.8375001388377916\n",
      "****\n",
      "****\n",
      "REQUIRED NUMBER OF FEATURES 80\n",
      "['BG_ind_up', 'BG_ind_down', 'BG_dir_up', 'dimer_len', 'h_substrate', 'sr_A2_dxyDOWN', 'sr_A1_dyzUP', 'sr_A2_dyzDOWN', 'sr_A2_dz2-r2UP', 'sr_A1_dz2-r2DOWN', 'sr_A2_dz2-r2DOWN', 'sr_A1_dxzUP', 'sr_A2_dxzUP', 'sr_A1_dxzDOWN', 'sr_A2_dx2-y2UP', 'sr_A2_dx2-y2DOWN', 'sr_A1_dosmodeldz2-r2UP_integral_below_1.0', 'sr_A1_dosmodeldxzUP_integral_below_1.0', 'sr_A1_dosmodeldxyUP_integral_above_1.0', 'sr_A1_dosmodeldyzUP_integral_above_1.0', 'sr_A1_dosmodeldxzUP_integral_above_1.0', 'sr_A1_dosmodeldxyDOWN_integral_below_1.0', 'sr_A1_dosmodeldz2-r2DOWN_integral_below_1.0', 'sr_A1_dosmodeldxzDOWN_integral_below_1.0', 'sr_A1_dosmodeldxyDOWN_integral_above_1.0', 'sr_A1_dosmodeldz2-r2DOWN_integral_above_1.0', 'sr_A1_dosmodeldxzDOWN_integral_above_1.0', 'sr_A1_dosmodeldx2-y2DOWN_integral_above_1.0', 'sr_A2_dosmodeldz2-r2UP_integral_below_1.0', 'sr_A2_dosmodeldxzUP_integral_above_1.0', 'sr_A2_dosmodeldz2-r2DOWN_integral_below_1.0', 'sr_A2_dosmodeldxzDOWN_integral_below_1.0', 'sr_A2_dosmodeldxyDOWN_integral_above_1.0', 'sr_A2_dosmodeldyzDOWN_integral_above_1.0', 'sr_A2_dosmodeldz2-r2DOWN_integral_above_1.0', 'pot_A1', 'bader_A1', 'bader_A2', 'sr_A1_dosmodeldxyUP_E_below', 'sr_A1_dosmodeldxyUP_peak_below', 'sr_A1_dosmodeldyzUP_E_below', 'sr_A1_dosmodeldyzUP_peak_below', 'sr_A1_dosmodeldz2-r2UP_E_below', 'sr_A1_dosmodeldz2-r2UP_peak_below', 'sr_A1_dosmodeldxzUP_peak_below', 'sr_A1_dosmodeldx2-y2UP_E_below', 'sr_A1_dosmodeldx2-y2UP_peak_below', 'sr_A1_dosmodeldyzUP_peak_above', 'sr_A1_dosmodeldz2-r2UP_E_above', 'sr_A1_dosmodeldz2-r2UP_peak_above', 'sr_A1_dosmodeldxzUP_peak_above', 'sr_A1_dosmodeldxyDOWN_E_below', 'sr_A1_dosmodeldxyDOWN_peak_below', 'sr_A1_dosmodeldxzDOWN_E_below', 'sr_A1_dosmodeldxzDOWN_peak_below', 'sr_A1_dosmodeldx2-y2DOWN_E_below', 'sr_A1_dosmodeldx2-y2DOWN_peak_below', 'sr_A1_dosmodeldyzDOWN_E_above', 'sr_A1_dosmodeldyzDOWN_peak_above', 'sr_A1_dosmodeldz2-r2DOWN_E_above', 'sr_A1_dosmodeldz2-r2DOWN_peak_above', 'sr_A1_dosmodeldxzDOWN_E_above', 'sr_A1_dosmodeldxzDOWN_peak_above', 'sr_A2_dosmodeldxyUP_E_below', 'sr_A2_dosmodeldyzUP_peak_below', 'sr_A2_dosmodeldz2-r2UP_E_below', 'sr_A2_dosmodeldz2-r2UP_peak_below', 'sr_A2_dosmodeldxzUP_E_below', 'sr_A2_dosmodeldx2-y2UP_E_below', 'sr_A2_dosmodeldz2-r2UP_E_above', 'sr_A2_dosmodeldz2-r2UP_peak_above', 'sr_A2_dosmodeldx2-y2UP_peak_above', 'sr_A2_dosmodeldxyDOWN_E_below', 'sr_A2_dosmodeldyzDOWN_E_below', 'sr_A2_dosmodeldz2-r2DOWN_E_below', 'sr_A2_dosmodeldyzDOWN_peak_above', 'sr_A2_dosmodeldz2-r2DOWN_peak_above', 'sr_A2_dosmodeldxzDOWN_E_above', 'sr_A2_dosmodeldx2-y2DOWN_E_above', 'PT']\n",
      "MAErr=8.509990101625824 MSErr=157.27428259323673 RMSErr=12.540904377007136 R2=0.8250226815121939\n",
      "****\n",
      "****\n",
      "REQUIRED NUMBER OF FEATURES 90\n",
      "['BG_ind_up', 'BG_ind_down', 'BG_dir_up', 'dimer_len', 'h_substrate', 'sr_A1_dxyDOWN', 'sr_A2_dxyDOWN', 'sr_A1_dyzUP', 'sr_A2_dyzDOWN', 'sr_A1_dz2-r2UP', 'sr_A2_dz2-r2UP', 'sr_A1_dz2-r2DOWN', 'sr_A2_dz2-r2DOWN', 'sr_A1_dxzUP', 'sr_A2_dxzUP', 'sr_A1_dxzDOWN', 'sr_A2_dx2-y2UP', 'sr_A2_dx2-y2DOWN', 'sr_A1_dosmodeldxyUP_integral_below_1.0', 'sr_A1_dosmodeldz2-r2UP_integral_below_1.0', 'sr_A1_dosmodeldxzUP_integral_below_1.0', 'sr_A1_dosmodeldx2-y2UP_integral_below_1.0', 'sr_A1_dosmodeldxzUP_integral_above_1.0', 'sr_A1_dosmodeldxyDOWN_integral_below_1.0', 'sr_A1_dosmodeldyzDOWN_integral_below_1.0', 'sr_A1_dosmodeldz2-r2DOWN_integral_below_1.0', 'sr_A1_dosmodeldxzDOWN_integral_below_1.0', 'sr_A1_dosmodeldxyDOWN_integral_above_1.0', 'sr_A1_dosmodeldz2-r2DOWN_integral_above_1.0', 'sr_A1_dosmodeldxzDOWN_integral_above_1.0', 'sr_A1_dosmodeldx2-y2DOWN_integral_above_1.0', 'sr_A2_dosmodeldz2-r2UP_integral_below_1.0', 'sr_A2_dosmodeldxzUP_integral_below_1.0', 'sr_A2_dosmodeldx2-y2UP_integral_below_1.0', 'sr_A2_dosmodeldyzUP_integral_above_1.0', 'sr_A2_dosmodeldxzUP_integral_above_1.0', 'sr_A2_dosmodeldz2-r2DOWN_integral_below_1.0', 'sr_A2_dosmodeldxzDOWN_integral_below_1.0', 'sr_A2_dosmodeldyzDOWN_integral_above_1.0', 'sr_A2_dosmodeldz2-r2DOWN_integral_above_1.0', 'pot_A1', 'bader_A1', 'bader_A2', 'sr_A1_dosmodeldxyUP_E_below', 'sr_A1_dosmodeldxyUP_peak_below', 'sr_A1_dosmodeldyzUP_E_below', 'sr_A1_dosmodeldyzUP_peak_below', 'sr_A1_dosmodeldz2-r2UP_E_below', 'sr_A1_dosmodeldxzUP_E_below', 'sr_A1_dosmodeldxzUP_peak_below', 'sr_A1_dosmodeldx2-y2UP_E_below', 'sr_A1_dosmodeldx2-y2UP_peak_below', 'sr_A1_dosmodeldxyUP_peak_above', 'sr_A1_dosmodeldz2-r2UP_E_above', 'sr_A1_dosmodeldz2-r2UP_peak_above', 'sr_A1_dosmodeldxzUP_peak_above', 'sr_A1_dosmodeldxyDOWN_E_below', 'sr_A1_dosmodeldxyDOWN_peak_below', 'sr_A1_dosmodeldxzDOWN_E_below', 'sr_A1_dosmodeldxzDOWN_peak_below', 'sr_A1_dosmodeldx2-y2DOWN_E_below', 'sr_A1_dosmodeldx2-y2DOWN_peak_below', 'sr_A1_dosmodeldyzDOWN_E_above', 'sr_A1_dosmodeldyzDOWN_peak_above', 'sr_A1_dosmodeldz2-r2DOWN_E_above', 'sr_A1_dosmodeldz2-r2DOWN_peak_above', 'sr_A1_dosmodeldxzDOWN_E_above', 'sr_A1_dosmodeldxzDOWN_peak_above', 'sr_A2_dosmodeldxyUP_E_below', 'sr_A2_dosmodeldyzUP_peak_below', 'sr_A2_dosmodeldz2-r2UP_E_below', 'sr_A2_dosmodeldz2-r2UP_peak_below', 'sr_A2_dosmodeldxzUP_E_below', 'sr_A2_dosmodeldx2-y2UP_E_below', 'sr_A2_dosmodeldx2-y2UP_peak_below', 'sr_A2_dosmodeldxyUP_peak_above', 'sr_A2_dosmodeldz2-r2UP_E_above', 'sr_A2_dosmodeldz2-r2UP_peak_above', 'sr_A2_dosmodeldx2-y2UP_peak_above', 'sr_A2_dosmodeldxyDOWN_E_below', 'sr_A2_dosmodeldxyDOWN_peak_below', 'sr_A2_dosmodeldyzDOWN_E_below', 'sr_A2_dosmodeldz2-r2DOWN_E_below', 'sr_A2_dosmodeldx2-y2DOWN_peak_below', 'sr_A2_dosmodeldxyDOWN_peak_above', 'sr_A2_dosmodeldz2-r2DOWN_E_above', 'sr_A2_dosmodeldz2-r2DOWN_peak_above', 'sr_A2_dosmodeldxzDOWN_E_above', 'sr_A2_dosmodeldx2-y2DOWN_E_above', 'PT']\n",
      "MAErr=8.45687995761142 MSErr=157.7695529396385 RMSErr=12.560635053198483 R2=0.8244716627714883\n",
      "****\n",
      "****\n",
      "REQUIRED NUMBER OF FEATURES 100\n",
      "['BG_ind_up', 'BG_ind_down', 'BG_dir_up', 'BG_dir_down', 'dimer_len', 'h_substrate', 'sr_A1_dxyDOWN', 'sr_A2_dxyDOWN', 'sr_A1_dyzUP', 'sr_A2_dyzUP', 'sr_A2_dyzDOWN', 'sr_A2_dz2-r2UP', 'sr_A1_dz2-r2DOWN', 'sr_A2_dz2-r2DOWN', 'sr_A1_dxzUP', 'sr_A2_dxzUP', 'sr_A1_dxzDOWN', 'sr_A2_dxzDOWN', 'sr_A2_dx2-y2UP', 'sr_A2_dx2-y2DOWN', 'sr_A1_dosmodeldxyUP_integral_below_1.0', 'sr_A1_dosmodeldyzUP_integral_below_1.0', 'sr_A1_dosmodeldz2-r2UP_integral_below_1.0', 'sr_A1_dosmodeldxzUP_integral_below_1.0', 'sr_A1_dosmodeldx2-y2UP_integral_below_1.0', 'sr_A1_dosmodeldxyUP_integral_above_1.0', 'sr_A1_dosmodeldyzUP_integral_above_1.0', 'sr_A1_dosmodeldz2-r2UP_integral_above_1.0', 'sr_A1_dosmodeldxzUP_integral_above_1.0', 'sr_A1_dosmodeldxyDOWN_integral_below_1.0', 'sr_A1_dosmodeldz2-r2DOWN_integral_below_1.0', 'sr_A1_dosmodeldxzDOWN_integral_below_1.0', 'sr_A1_dosmodeldxyDOWN_integral_above_1.0', 'sr_A1_dosmodeldz2-r2DOWN_integral_above_1.0', 'sr_A1_dosmodeldxzDOWN_integral_above_1.0', 'sr_A1_dosmodeldx2-y2DOWN_integral_above_1.0', 'sr_A2_dosmodeldz2-r2UP_integral_below_1.0', 'sr_A2_dosmodeldxzUP_integral_below_1.0', 'sr_A2_dosmodeldx2-y2UP_integral_below_1.0', 'sr_A2_dosmodeldxzUP_integral_above_1.0', 'sr_A2_dosmodeldz2-r2DOWN_integral_below_1.0', 'sr_A2_dosmodeldxzDOWN_integral_below_1.0', 'sr_A2_dosmodeldxyDOWN_integral_above_1.0', 'sr_A2_dosmodeldyzDOWN_integral_above_1.0', 'sr_A2_dosmodeldz2-r2DOWN_integral_above_1.0', 'pot_A1', 'bader_A1', 'bader_A2', 'sr_A1_dosmodeldxyUP_E_below', 'sr_A1_dosmodeldxyUP_peak_below', 'sr_A1_dosmodeldyzUP_E_below', 'sr_A1_dosmodeldyzUP_peak_below', 'sr_A1_dosmodeldz2-r2UP_E_below', 'sr_A1_dosmodeldz2-r2UP_peak_below', 'sr_A1_dosmodeldxzUP_E_below', 'sr_A1_dosmodeldxzUP_peak_below', 'sr_A1_dosmodeldx2-y2UP_E_below', 'sr_A1_dosmodeldx2-y2UP_peak_below', 'sr_A1_dosmodeldxyUP_peak_above', 'sr_A1_dosmodeldyzUP_peak_above', 'sr_A1_dosmodeldz2-r2UP_E_above', 'sr_A1_dosmodeldz2-r2UP_peak_above', 'sr_A1_dosmodeldxzUP_peak_above', 'sr_A1_dosmodeldx2-y2UP_E_above', 'sr_A1_dosmodeldxyDOWN_E_below', 'sr_A1_dosmodeldxyDOWN_peak_below', 'sr_A1_dosmodeldyzDOWN_E_below', 'sr_A1_dosmodeldxzDOWN_E_below', 'sr_A1_dosmodeldxzDOWN_peak_below', 'sr_A1_dosmodeldx2-y2DOWN_E_below', 'sr_A1_dosmodeldx2-y2DOWN_peak_below', 'sr_A1_dosmodeldyzDOWN_E_above', 'sr_A1_dosmodeldz2-r2DOWN_E_above', 'sr_A1_dosmodeldz2-r2DOWN_peak_above', 'sr_A1_dosmodeldxzDOWN_E_above', 'sr_A1_dosmodeldxzDOWN_peak_above', 'sr_A2_dosmodeldxyUP_E_below', 'sr_A2_dosmodeldxyUP_peak_below', 'sr_A2_dosmodeldyzUP_E_below', 'sr_A2_dosmodeldyzUP_peak_below', 'sr_A2_dosmodeldz2-r2UP_E_below', 'sr_A2_dosmodeldz2-r2UP_peak_below', 'sr_A2_dosmodeldxzUP_E_below', 'sr_A2_dosmodeldx2-y2UP_E_below', 'sr_A2_dosmodeldx2-y2UP_peak_below', 'sr_A2_dosmodeldxyUP_peak_above', 'sr_A2_dosmodeldz2-r2UP_E_above', 'sr_A2_dosmodeldz2-r2UP_peak_above', 'sr_A2_dosmodeldx2-y2UP_peak_above', 'sr_A2_dosmodeldxyDOWN_E_below', 'sr_A2_dosmodeldxyDOWN_peak_below', 'sr_A2_dosmodeldyzDOWN_E_below', 'sr_A2_dosmodeldz2-r2DOWN_E_below', 'sr_A2_dosmodeldx2-y2DOWN_peak_below', 'sr_A2_dosmodeldyzDOWN_E_above', 'sr_A2_dosmodeldyzDOWN_peak_above', 'sr_A2_dosmodeldz2-r2DOWN_peak_above', 'sr_A2_dosmodeldxzDOWN_E_above', 'sr_A2_dosmodeldx2-y2DOWN_E_above', 'PT']\n",
      "MAErr=8.391521939753305 MSErr=156.78131688263102 RMSErr=12.521234638909656 R2=0.8255711362037427\n",
      "****\n"
     ]
    }
   ],
   "source": [
    "# Feature selection with CV\n",
    "num_features_to_selects = [2, 3, 5, 6, 7, 8, 9, 10, 12, 15, 17, 20, 25, 30, 35, 40, 45, 50, 55, 60, 65, 70, 80, 90, 100]\n",
    "\n",
    "mse_feature = []\n",
    "mae_feature = []\n",
    "r2_feature = []\n",
    "features_selection = {}\n",
    "\n",
    "for num_features_to_select in num_features_to_selects:\n",
    "    mod = CatBoostRegressor(cat_features=cat_features)\n",
    "    summary = mod.select_features(df, target,\n",
    "                          features_for_select=list(range(df.shape[1])),\n",
    "                          num_features_to_select=num_features_to_select,\n",
    "                          steps=20,\n",
    "                          algorithm=EFeaturesSelectionAlgorithm.RecursiveByShapValues,\n",
    "                          shap_calc_type=EShapCalcType.Regular,\n",
    "                          train_final_model=True,\n",
    "                          plot=False, logging_level='Silent')\n",
    "\n",
    "    features_selection[num_features_to_select] = summary['selected_features_names']\n",
    "    df_selected = df[summary['selected_features_names']]\n",
    "    cb_mod = CatBoostRegressor(**cb_hyperparams, cat_features=cat_features, verbose=False)\n",
    "    cv_cb_fetures = cross_validate(cb_mod, df_selected, target, cv=5, scoring=scoring, \n",
    "                           return_train_score=True, \n",
    "                           return_estimator=True,\n",
    "                           return_indices=True)\n",
    "    y_pred_folds, y_test_folds = prediction_on_folds(cv_cb_fetures, df_selected, target)\n",
    "    mae = mean_absolute_error(y_test_folds, y_pred_folds)\n",
    "    mse = mean_squared_error(y_test_folds, y_pred_folds)\n",
    "    r2 = r2_score(y_test_folds, y_pred_folds)\n",
    "    mse_feature.append(mse)\n",
    "    mae_feature.append(mae)\n",
    "    r2_feature.append(r2)\n",
    "    print('****')\n",
    "    print(f'REQUIRED NUMBER OF FEATURES {num_features_to_select}')\n",
    "    print(summary['selected_features_names'])\n",
    "    print(f'MAErr={mae} MSErr={mse} RMSErr={np.sqrt(mse)} R2={r2}')\n",
    "    print('****')"
   ]
  },
  {
   "cell_type": "markdown",
   "id": "5a96e210-70f5-45bc-a8d1-bdb328a12512",
   "metadata": {},
   "source": [
    "# Build models for list selected 25 features"
   ]
  },
  {
   "cell_type": "code",
   "execution_count": 14,
   "id": "bb73eb04-6eac-4294-befb-6c05aa256aa2",
   "metadata": {},
   "outputs": [
    {
     "name": "stdout",
     "output_type": "stream",
     "text": [
      "FEATURES: ['BG_dir_up', 'dimer_len', 'h_substrate', 'sr_A1_dyzUP', 'sr_A1_dz2-r2DOWN', 'sr_A2_dz2-r2DOWN', 'sr_A1_dxzUP', 'sr_A1_dosmodeldxzUP_integral_below_1.0', 'sr_A1_dosmodeldxzUP_integral_above_1.0', 'sr_A1_dosmodeldz2-r2DOWN_integral_below_1.0', 'sr_A1_dosmodeldxzDOWN_integral_above_1.0', 'sr_A2_dosmodeldxzDOWN_integral_below_1.0', 'bader_A1', 'bader_A2', 'sr_A1_dosmodeldz2-r2UP_peak_above', 'sr_A1_dosmodeldxzUP_peak_above', 'sr_A1_dosmodeldxyDOWN_E_below', 'sr_A1_dosmodeldx2-y2DOWN_E_below', 'sr_A1_dosmodeldx2-y2DOWN_peak_below', 'sr_A1_dosmodeldyzDOWN_E_above', 'sr_A1_dosmodeldz2-r2DOWN_E_above', 'sr_A1_dosmodeldxzDOWN_E_above', 'sr_A2_dosmodeldx2-y2UP_E_below', 'sr_A2_dosmodeldz2-r2DOWN_E_below', 'PT']\n"
     ]
    }
   ],
   "source": [
    "N_FEATURES = 25\n",
    "FEATURES = features_selection[N_FEATURES]\n",
    "print(f'FEATURES: {FEATURES}')\n",
    "df_selected = df[FEATURES].copy()\n",
    "\n",
    "df_es_selected = df_es[FEATURES]\n",
    "# prepare data for LinearRegression\n",
    "# remove NaNs\n",
    "# do one-hot encodings\n",
    "df_nonans_selected = df_selected.dropna(axis=1)\n",
    "df_es_nonans_selected = df_es_selected.dropna(axis=1)\n",
    "no_nans_common_columns = list(set(df_nonans_selected.columns).intersection(df_es_nonans_selected.columns))\n",
    "df_nonans_selected = df_nonans_selected[no_nans_common_columns]\n",
    "df_es_nonans_selected = df_es_nonans_selected[no_nans_common_columns]\n",
    "\n",
    "cat_features_selected = categorical_features(df_selected)\n",
    "cat_features_nonans_selected = categorical_features(df_nonans_selected)\n",
    "df_nonans_onehot_selected = pd.get_dummies(df_nonans_selected, columns=cat_features_nonans_selected)\n",
    "df_es_nonans_onehot_selected = pd.get_dummies(df_es_nonans_selected, columns=cat_features_nonans_selected)\n",
    "\n",
    "cat_features_nonans_selected = categorical_features(df_nonans_selected)\n",
    "df_nonans_selected_onehot = pd.get_dummies(df_nonans_selected, columns=cat_features_nonans_selected)"
   ]
  },
  {
   "cell_type": "code",
   "execution_count": 15,
   "id": "615980f9-43b8-4c66-b16b-321324178f1d",
   "metadata": {},
   "outputs": [
    {
     "data": {
      "text/plain": [
       "['$BG_\\\\text{dir}^{\\\\uparrow}$',\n",
       " '$d_{len}$',\n",
       " '$h_{sub}$',\n",
       " '$DOS_{B, d_{yz}}^{\\\\uparrow}$',\n",
       " '$DOS_{B, d_{z^2}}^{\\\\downarrow}$',\n",
       " '$DOS_{T, d_{z^2}}^{\\\\downarrow}$',\n",
       " '$DOS_{B, d_{xz}}^{\\\\uparrow}$',\n",
       " '$I_{B, d_{xz}}^{\\\\uparrow -}$',\n",
       " '$I_{B, d_{xz}}^{\\\\uparrow +}$',\n",
       " '$I_{B, d_{z^2}}^{\\\\downarrow -}$',\n",
       " '$I_{B, d_{xz}}^{\\\\downarrow +}$',\n",
       " '$I_{T, d_{xz}}^{\\\\downarrow -}$',\n",
       " '$q_B$',\n",
       " '$q_T$',\n",
       " '$D_{B, d_{z^2}}^{\\\\uparrow +}$',\n",
       " '$D_{B, d_{xz}}^{\\\\uparrow +}$',\n",
       " '$E_{B, d_{xy}}^{\\\\downarrow -}$',\n",
       " '$E_{B, d_{x^2-y^2}}^{\\\\downarrow -}$',\n",
       " '$D_{B, d_{x^2-y^2}}^{\\\\downarrow -}$',\n",
       " '$E_{B, d_{yz}}^{\\\\downarrow +}$',\n",
       " '$E_{B, d_{z^2}}^{\\\\downarrow +}$',\n",
       " '$E_{B, d_{xz}}^{\\\\downarrow +}$',\n",
       " '$E_{T, d_{x^2-y^2}}^{\\\\uparrow -}$',\n",
       " '$E_{T, d_{z^2}}^{\\\\downarrow -}$',\n",
       " 'PT']"
      ]
     },
     "execution_count": 15,
     "metadata": {},
     "output_type": "execute_result"
    }
   ],
   "source": [
    "# print selected features in LaTeX format\n",
    "[labels(f) for f in FEATURES]"
   ]
  },
  {
   "cell_type": "code",
   "execution_count": 16,
   "id": "f8cc16ba-0095-42b8-b123-6eb7838c4dff",
   "metadata": {},
   "outputs": [],
   "source": [
    "lasso = Lasso(alpha=0.1)\n",
    "cv_lasso_selected = cross_validate(lasso, df_nonans_selected_onehot, target, cv=5, scoring=scoring,                            \n",
    "                              return_train_score=True, \n",
    "                              return_estimator=True,\n",
    "                              return_indices=True)\n",
    "\n",
    "cv_lr_selected = cross_validate(lr,df_nonans_selected_onehot, target, cv=5, scoring=scoring,                            \n",
    "                              return_train_score=True, \n",
    "                              return_estimator=True,\n",
    "                              return_indices=True)\n",
    "\n",
    "cb = CatBoostRegressor(verbose=False, cat_features=cat_features_selected)\n",
    "cv_cb_selected = cross_validate(cb, df_selected, target, cv=5, scoring=scoring, \n",
    "                           return_train_score=True, \n",
    "                           return_estimator=True,\n",
    "                           return_indices=True)"
   ]
  },
  {
   "cell_type": "code",
   "execution_count": 17,
   "id": "5a45879b-4b73-48ed-a31b-586f7f140e24",
   "metadata": {},
   "outputs": [],
   "source": [
    "nocv_cb_selected = train_nocv(cb, df_selected, target)\n",
    "nocv_lasso_selected = train_nocv(lasso, df_nonans_selected_onehot, target)\n",
    "nocv_lr_selected = train_nocv(lr, df_nonans_selected_onehot, target)"
   ]
  },
  {
   "cell_type": "code",
   "execution_count": 18,
   "id": "6899c4c8-4f5e-451e-ba8b-b1cef080a265",
   "metadata": {},
   "outputs": [],
   "source": [
    "csv_path_selected = save_fold_predictions(cv_objs=[cv_lr_selected, cv_lasso_selected, cv_cb_selected],\n",
    "                                        labels=['MLR', 'LASSO', 'ML'],\n",
    "                                        dfs=[df_nonans_selected_onehot, df_nonans_selected_onehot, df_selected],\n",
    "                                        targets=[target, target, target],\n",
    "                                        filename=f'predictions_fit_selected_features_implicit_withPT',\n",
    "                                        substrate='implicit')"
   ]
  },
  {
   "cell_type": "code",
   "execution_count": 19,
   "id": "155d42a9-3b6e-4086-8bac-62913988ac64",
   "metadata": {},
   "outputs": [
    {
     "name": "stdout",
     "output_type": "stream",
     "text": [
      "implicit MLR\tMAErr=15.9738\tRMSErr=22.3543\t$R^2$\t=0.44\n",
      "implicit LASSO\tMAErr=16.1862\tRMSErr=22.6051\t$R^2$\t=0.43\n",
      "implicit ML\tMAErr=8.2712\tRMSErr=12.5021\t$R^2$\t=0.83\n"
     ]
    }
   ],
   "source": [
    "# Metrics for Implicit Substrates\n",
    "# Models uses 25 features\n",
    "compute_metrics_by_method(csv_path_selected, substrate='implicit', filename='Metrics_selected_features_implicit_withPT.txt')"
   ]
  },
  {
   "cell_type": "markdown",
   "id": "94d35c57-219a-4b09-866b-19bb598f675d",
   "metadata": {},
   "source": [
    "**Conclusion** The above shows that including the PT variable as feature does not improve the predictions of MAE (R2 similar to the model without the PT). This is discussed in the manuscript in lines 406-420."
   ]
  },
  {
   "cell_type": "code",
   "execution_count": 20,
   "id": "8d398e19-2b45-462e-a86b-68b9ea4d8e23",
   "metadata": {},
   "outputs": [],
   "source": [
    "csv_path_selected_es = save_nofolds_predictions(estimators=[nocv_lr_selected, nocv_lasso_selected, nocv_cb_selected],\n",
    "                                        labels=['MLR', 'LASSO', 'ML'],\n",
    "                                        dfs=[df_es_nonans_onehot_selected, df_es_nonans_onehot_selected, df_es_selected],\n",
    "                                        targets=[target_es, target_es, target_es],\n",
    "                                        filename=f'predictions_fit_selected_features_explicit_withPT',\n",
    "                                        substrate='explicit')        "
   ]
  },
  {
   "cell_type": "code",
   "execution_count": 21,
   "id": "396a3066-36b2-4836-a556-3f4e9a5ad9e4",
   "metadata": {},
   "outputs": [
    {
     "name": "stdout",
     "output_type": "stream",
     "text": [
      "explicit MLR\tMAErr=770.5857\tRMSErr=773.4174\t$R^2$\t=-418.31\n",
      "explicit LASSO\tMAErr=153.6913\tRMSErr=158.1286\t$R^2$\t=-16.53\n",
      "explicit ML\tMAErr=24.4215\tRMSErr=30.4069\t$R^2$\t=0.35\n"
     ]
    }
   ],
   "source": [
    "# Metrics for Explicit Substrates\n",
    "# Models uses 25 features\n",
    "compute_metrics_by_method(csv_path_selected_es, substrate='explicit', filename='Metrics_selected_features_explicit_withPT.txt')"
   ]
  }
 ],
 "metadata": {
  "kernelspec": {
   "display_name": "Python 3 (ipykernel)",
   "language": "python",
   "name": "python3"
  },
  "language_info": {
   "codemirror_mode": {
    "name": "ipython",
    "version": 3
   },
   "file_extension": ".py",
   "mimetype": "text/x-python",
   "name": "python",
   "nbconvert_exporter": "python",
   "pygments_lexer": "ipython3",
   "version": "3.10.12"
  }
 },
 "nbformat": 4,
 "nbformat_minor": 5
}
